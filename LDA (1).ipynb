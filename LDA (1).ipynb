{
  "nbformat": 4,
  "nbformat_minor": 0,
  "metadata": {
    "colab": {
      "provenance": []
    },
    "kernelspec": {
      "name": "python3",
      "display_name": "Python 3"
    },
    "language_info": {
      "name": "python"
    }
  },
  "cells": [
    {
      "cell_type": "code",
      "execution_count": null,
      "metadata": {
        "id": "_Wt2Kvqgd3Xf"
      },
      "outputs": [],
      "source": [
        "import pandas as pd\n",
        "import numpy as np"
      ]
    },
    {
      "cell_type": "code",
      "source": [
        "npr=pd.read_csv(\"/content/npr.csv\")"
      ],
      "metadata": {
        "id": "f7tfwtRld6-v"
      },
      "execution_count": null,
      "outputs": []
    },
    {
      "cell_type": "code",
      "source": [
        "npr.head()"
      ],
      "metadata": {
        "colab": {
          "base_uri": "https://localhost:8080/",
          "height": 206
        },
        "id": "po5LxJrLecU_",
        "outputId": "a3ab5183-1a36-4c4a-8a62-999c472b86dd"
      },
      "execution_count": null,
      "outputs": [
        {
          "output_type": "execute_result",
          "data": {
            "text/plain": [
              "                                             Article\n",
              "0  In the Washington of 2016, even when the polic...\n",
              "1    Donald Trump has used Twitter  —   his prefe...\n",
              "2    Donald Trump is unabashedly praising Russian...\n",
              "3  Updated at 2:50 p. m. ET, Russian President Vl...\n",
              "4  From photography, illustration and video, to d..."
            ],
            "text/html": [
              "\n",
              "  <div id=\"df-da300460-b46a-46a0-a193-2973f8de215c\" class=\"colab-df-container\">\n",
              "    <div>\n",
              "<style scoped>\n",
              "    .dataframe tbody tr th:only-of-type {\n",
              "        vertical-align: middle;\n",
              "    }\n",
              "\n",
              "    .dataframe tbody tr th {\n",
              "        vertical-align: top;\n",
              "    }\n",
              "\n",
              "    .dataframe thead th {\n",
              "        text-align: right;\n",
              "    }\n",
              "</style>\n",
              "<table border=\"1\" class=\"dataframe\">\n",
              "  <thead>\n",
              "    <tr style=\"text-align: right;\">\n",
              "      <th></th>\n",
              "      <th>Article</th>\n",
              "    </tr>\n",
              "  </thead>\n",
              "  <tbody>\n",
              "    <tr>\n",
              "      <th>0</th>\n",
              "      <td>In the Washington of 2016, even when the polic...</td>\n",
              "    </tr>\n",
              "    <tr>\n",
              "      <th>1</th>\n",
              "      <td>Donald Trump has used Twitter  —   his prefe...</td>\n",
              "    </tr>\n",
              "    <tr>\n",
              "      <th>2</th>\n",
              "      <td>Donald Trump is unabashedly praising Russian...</td>\n",
              "    </tr>\n",
              "    <tr>\n",
              "      <th>3</th>\n",
              "      <td>Updated at 2:50 p. m. ET, Russian President Vl...</td>\n",
              "    </tr>\n",
              "    <tr>\n",
              "      <th>4</th>\n",
              "      <td>From photography, illustration and video, to d...</td>\n",
              "    </tr>\n",
              "  </tbody>\n",
              "</table>\n",
              "</div>\n",
              "    <div class=\"colab-df-buttons\">\n",
              "\n",
              "  <div class=\"colab-df-container\">\n",
              "    <button class=\"colab-df-convert\" onclick=\"convertToInteractive('df-da300460-b46a-46a0-a193-2973f8de215c')\"\n",
              "            title=\"Convert this dataframe to an interactive table.\"\n",
              "            style=\"display:none;\">\n",
              "\n",
              "  <svg xmlns=\"http://www.w3.org/2000/svg\" height=\"24px\" viewBox=\"0 -960 960 960\">\n",
              "    <path d=\"M120-120v-720h720v720H120Zm60-500h600v-160H180v160Zm220 220h160v-160H400v160Zm0 220h160v-160H400v160ZM180-400h160v-160H180v160Zm440 0h160v-160H620v160ZM180-180h160v-160H180v160Zm440 0h160v-160H620v160Z\"/>\n",
              "  </svg>\n",
              "    </button>\n",
              "\n",
              "  <style>\n",
              "    .colab-df-container {\n",
              "      display:flex;\n",
              "      gap: 12px;\n",
              "    }\n",
              "\n",
              "    .colab-df-convert {\n",
              "      background-color: #E8F0FE;\n",
              "      border: none;\n",
              "      border-radius: 50%;\n",
              "      cursor: pointer;\n",
              "      display: none;\n",
              "      fill: #1967D2;\n",
              "      height: 32px;\n",
              "      padding: 0 0 0 0;\n",
              "      width: 32px;\n",
              "    }\n",
              "\n",
              "    .colab-df-convert:hover {\n",
              "      background-color: #E2EBFA;\n",
              "      box-shadow: 0px 1px 2px rgba(60, 64, 67, 0.3), 0px 1px 3px 1px rgba(60, 64, 67, 0.15);\n",
              "      fill: #174EA6;\n",
              "    }\n",
              "\n",
              "    .colab-df-buttons div {\n",
              "      margin-bottom: 4px;\n",
              "    }\n",
              "\n",
              "    [theme=dark] .colab-df-convert {\n",
              "      background-color: #3B4455;\n",
              "      fill: #D2E3FC;\n",
              "    }\n",
              "\n",
              "    [theme=dark] .colab-df-convert:hover {\n",
              "      background-color: #434B5C;\n",
              "      box-shadow: 0px 1px 3px 1px rgba(0, 0, 0, 0.15);\n",
              "      filter: drop-shadow(0px 1px 2px rgba(0, 0, 0, 0.3));\n",
              "      fill: #FFFFFF;\n",
              "    }\n",
              "  </style>\n",
              "\n",
              "    <script>\n",
              "      const buttonEl =\n",
              "        document.querySelector('#df-da300460-b46a-46a0-a193-2973f8de215c button.colab-df-convert');\n",
              "      buttonEl.style.display =\n",
              "        google.colab.kernel.accessAllowed ? 'block' : 'none';\n",
              "\n",
              "      async function convertToInteractive(key) {\n",
              "        const element = document.querySelector('#df-da300460-b46a-46a0-a193-2973f8de215c');\n",
              "        const dataTable =\n",
              "          await google.colab.kernel.invokeFunction('convertToInteractive',\n",
              "                                                    [key], {});\n",
              "        if (!dataTable) return;\n",
              "\n",
              "        const docLinkHtml = 'Like what you see? Visit the ' +\n",
              "          '<a target=\"_blank\" href=https://colab.research.google.com/notebooks/data_table.ipynb>data table notebook</a>'\n",
              "          + ' to learn more about interactive tables.';\n",
              "        element.innerHTML = '';\n",
              "        dataTable['output_type'] = 'display_data';\n",
              "        await google.colab.output.renderOutput(dataTable, element);\n",
              "        const docLink = document.createElement('div');\n",
              "        docLink.innerHTML = docLinkHtml;\n",
              "        element.appendChild(docLink);\n",
              "      }\n",
              "    </script>\n",
              "  </div>\n",
              "\n",
              "\n",
              "<div id=\"df-8f3e5dab-542e-4e07-afc7-e47095a3d361\">\n",
              "  <button class=\"colab-df-quickchart\" onclick=\"quickchart('df-8f3e5dab-542e-4e07-afc7-e47095a3d361')\"\n",
              "            title=\"Suggest charts\"\n",
              "            style=\"display:none;\">\n",
              "\n",
              "<svg xmlns=\"http://www.w3.org/2000/svg\" height=\"24px\"viewBox=\"0 0 24 24\"\n",
              "     width=\"24px\">\n",
              "    <g>\n",
              "        <path d=\"M19 3H5c-1.1 0-2 .9-2 2v14c0 1.1.9 2 2 2h14c1.1 0 2-.9 2-2V5c0-1.1-.9-2-2-2zM9 17H7v-7h2v7zm4 0h-2V7h2v10zm4 0h-2v-4h2v4z\"/>\n",
              "    </g>\n",
              "</svg>\n",
              "  </button>\n",
              "\n",
              "<style>\n",
              "  .colab-df-quickchart {\n",
              "      --bg-color: #E8F0FE;\n",
              "      --fill-color: #1967D2;\n",
              "      --hover-bg-color: #E2EBFA;\n",
              "      --hover-fill-color: #174EA6;\n",
              "      --disabled-fill-color: #AAA;\n",
              "      --disabled-bg-color: #DDD;\n",
              "  }\n",
              "\n",
              "  [theme=dark] .colab-df-quickchart {\n",
              "      --bg-color: #3B4455;\n",
              "      --fill-color: #D2E3FC;\n",
              "      --hover-bg-color: #434B5C;\n",
              "      --hover-fill-color: #FFFFFF;\n",
              "      --disabled-bg-color: #3B4455;\n",
              "      --disabled-fill-color: #666;\n",
              "  }\n",
              "\n",
              "  .colab-df-quickchart {\n",
              "    background-color: var(--bg-color);\n",
              "    border: none;\n",
              "    border-radius: 50%;\n",
              "    cursor: pointer;\n",
              "    display: none;\n",
              "    fill: var(--fill-color);\n",
              "    height: 32px;\n",
              "    padding: 0;\n",
              "    width: 32px;\n",
              "  }\n",
              "\n",
              "  .colab-df-quickchart:hover {\n",
              "    background-color: var(--hover-bg-color);\n",
              "    box-shadow: 0 1px 2px rgba(60, 64, 67, 0.3), 0 1px 3px 1px rgba(60, 64, 67, 0.15);\n",
              "    fill: var(--button-hover-fill-color);\n",
              "  }\n",
              "\n",
              "  .colab-df-quickchart-complete:disabled,\n",
              "  .colab-df-quickchart-complete:disabled:hover {\n",
              "    background-color: var(--disabled-bg-color);\n",
              "    fill: var(--disabled-fill-color);\n",
              "    box-shadow: none;\n",
              "  }\n",
              "\n",
              "  .colab-df-spinner {\n",
              "    border: 2px solid var(--fill-color);\n",
              "    border-color: transparent;\n",
              "    border-bottom-color: var(--fill-color);\n",
              "    animation:\n",
              "      spin 1s steps(1) infinite;\n",
              "  }\n",
              "\n",
              "  @keyframes spin {\n",
              "    0% {\n",
              "      border-color: transparent;\n",
              "      border-bottom-color: var(--fill-color);\n",
              "      border-left-color: var(--fill-color);\n",
              "    }\n",
              "    20% {\n",
              "      border-color: transparent;\n",
              "      border-left-color: var(--fill-color);\n",
              "      border-top-color: var(--fill-color);\n",
              "    }\n",
              "    30% {\n",
              "      border-color: transparent;\n",
              "      border-left-color: var(--fill-color);\n",
              "      border-top-color: var(--fill-color);\n",
              "      border-right-color: var(--fill-color);\n",
              "    }\n",
              "    40% {\n",
              "      border-color: transparent;\n",
              "      border-right-color: var(--fill-color);\n",
              "      border-top-color: var(--fill-color);\n",
              "    }\n",
              "    60% {\n",
              "      border-color: transparent;\n",
              "      border-right-color: var(--fill-color);\n",
              "    }\n",
              "    80% {\n",
              "      border-color: transparent;\n",
              "      border-right-color: var(--fill-color);\n",
              "      border-bottom-color: var(--fill-color);\n",
              "    }\n",
              "    90% {\n",
              "      border-color: transparent;\n",
              "      border-bottom-color: var(--fill-color);\n",
              "    }\n",
              "  }\n",
              "</style>\n",
              "\n",
              "  <script>\n",
              "    async function quickchart(key) {\n",
              "      const quickchartButtonEl =\n",
              "        document.querySelector('#' + key + ' button');\n",
              "      quickchartButtonEl.disabled = true;  // To prevent multiple clicks.\n",
              "      quickchartButtonEl.classList.add('colab-df-spinner');\n",
              "      try {\n",
              "        const charts = await google.colab.kernel.invokeFunction(\n",
              "            'suggestCharts', [key], {});\n",
              "      } catch (error) {\n",
              "        console.error('Error during call to suggestCharts:', error);\n",
              "      }\n",
              "      quickchartButtonEl.classList.remove('colab-df-spinner');\n",
              "      quickchartButtonEl.classList.add('colab-df-quickchart-complete');\n",
              "    }\n",
              "    (() => {\n",
              "      let quickchartButtonEl =\n",
              "        document.querySelector('#df-8f3e5dab-542e-4e07-afc7-e47095a3d361 button');\n",
              "      quickchartButtonEl.style.display =\n",
              "        google.colab.kernel.accessAllowed ? 'block' : 'none';\n",
              "    })();\n",
              "  </script>\n",
              "</div>\n",
              "\n",
              "    </div>\n",
              "  </div>\n"
            ],
            "application/vnd.google.colaboratory.intrinsic+json": {
              "type": "dataframe",
              "variable_name": "npr",
              "summary": "{\n  \"name\": \"npr\",\n  \"rows\": 11992,\n  \"fields\": [\n    {\n      \"column\": \"Article\",\n      \"properties\": {\n        \"dtype\": \"string\",\n        \"num_unique_values\": 11991,\n        \"samples\": [\n          \"Last week, physicists at the National Institute for Standards and Technology reported they\\u2019d cooled an object to a million times colder than room temperature. It was a record for the   science of  . In this field, researchers inch ever closer to  \\u2014   but never reach  \\u2014   the state of absolute zero temperature. It\\u2019s a science that has some very cool (pun very much intended) applications including   gravity wave detectors for \\u201dhearing\\u201d distant black hole mergers. But moving beyond these applications, why is   so hard to begin with? Why can\\u2019t we just get to absolute zero degrees and be done with it? The answer to this question drops us straight into one of the quantum universe\\u2019s most startling features: The world never rests. To see what this means, let\\u2019s remind ourselves about the meaning of \\u201dtemperature.\\u201d Without getting too technical (we should really be talking about entropy here) temperature for physicists is a measure of random motion. Imagine the gas molecules in the air around you are little cue balls of matter. The higher the air temperature, the faster those little orbs of matter will be ricocheting around the room, bouncing off the walls and each other. So cooling the air means finding some means to slow the molecules down. From this perspective, there there\\u2019s no conceptual reason why you shouldn\\u2019t be able bring them entirely to a halt. Do that, and the air would have a temperature of \\u201dabsolute zero\\u201d degrees (as measured in units called Kelvins. In Fahrenheit, this would be  . 67 degrees). But, it turns out, nature doesn\\u2019t work that way. The universe doesn\\u2019t \\u201ddo\\u201d zero temperatures because it doesn\\u2019t do zero motion. Thinking about matter and motion in the way we described above is what we physicists call \\u201da classical picture.\\u201d In classical physics, matter is made of tiny particles of \\u201dstuff\\u201d and motion is just the change in the particles position with time. It all makes intuitive sense based on our experience of the world at the scale of baseballs and boulders. But a hundred years or so ago, physicists began probing the world on the scale of atoms. What they found was the classical, intuitive picture didn\\u2019t work well for explaining their experiments. In response, they developed a new kind of physics. In an astonishing burst of creativity, they kept key principles from the classical world  \\u2014   like the conservation of energy  \\u2014   but added new rules. One of these was the Uncertainty Principle, which essentially told us that reality is fuzzy at its root level. To be exact, certain pairs of properties  \\u2014   like motion and position  \\u2014   can never be known exactly. The Uncertainty Principle isn\\u2019t saying there\\u2019s something wrong with our instruments. Instead, it tells us there\\u2019s something wrong with our classical intuitions. In particular, when it comes to motion, it tells us it\\u2019s impossible to know the position and the motion of a particle exactly. The more you lock in the position of a particle, the wider the range of velocities the particle can have. So what does this have to do with temperature? Absolute zero should mean bringing particles to a halt. But that would imply you knew exactly where they were. You had them perfectly \\u201dlocalized.\\u201d If that\\u2019s the case, then the Uncertainty Principle demands there must be some uncertainty in their motion. They can\\u2019t be perfectly known to be perfectly at rest. The deeper meaning of this this quantum logic is that the universe can never be at rest. There is a \\u201dfloor\\u201d to how much things can be slowed down (or cooled). It\\u2019s impossible to go below that floor (though scientists do get ever more clever in skirting its edges). The implications of this can get pretty strange. Imagine we put a particle, like an electron, in a box. Now we ask: What\\u2019s the lowest energy state of the electron + box system? In classical physics, it would just be the electron sitting there unmoving  \\u2014   i. e. zero motion, hence zero energy. But quantum physics won\\u2019t allow such a thing as zero energy (because of the Uncertainty Principle). Instead, the system has   \\u201dground state\\u201d energy with the electron bouncing back and forth between the box walls. That\\u2019s as low as you can go. The electron can\\u2019t be stopped. Take this idea further, and you get to the delicious idea of vacuum energy. There the Uncertainty Principle demands that there can be no pure and perfect vacuum with a state of zero energy. Thus, in quantum physics, the vacuum is not empty but is a seething froth of \\u201dvirtual particles\\u201d that are never manifested and yet have a verifiable effect on the particles we do see. No vacuum. No zero energy. No zero temperature. No common sense expectation about the world\\u2019s behavior. The discovery that the quantum world was the foundation for our   classical experience was a triumph of science. It was a validation of science\\u2019s ability to take us beyond our limited senses and limited concepts. There is no way to \\u201dpicture\\u201d this quantum world with our classical imaginations. Instead, what we found was a new frontier. At its root, quantum physics showed us that this world we inhabit is dynamic to its very core: buzzing, roaring, shuddering and trembling like an infinite Jackson Pollack painting. It is not just richer than we imagined, but stranger and more wonderful than we can imagine. That view, hidden in the impossibility of absolute zero temperature, is a gift that science has given us all. Now what are we to make of it? Adam Frank is a   of the 13. 7 blog, an astrophysics professor at the University of Rochester, a book author and a   \\u201devangelist of science.\\u201d You can keep up with more of what Adam is thinking on Facebook and Twitter: @adamfrank4\",\n          \"President Trump hosted Russian Foreign Minister Sergey Lavrov at the White House on Wednesday, one day after firing the man whose agency is investigating Russia\\u2019s meddling in the 2016 election that brought Trump to power. Trump fired   FBI Director James Comey, who told Congress earlier this year that his agency has been investigating Russia\\u2019s actions  \\u2014   and possible ties to anyone associated with the Trump campaign  \\u2014   since July. As NPR\\u2019s Domenico Montanaro reports, the firing of Comey with more than six years left on his term in office has prompted a flurry of questions about the president\\u2019s motives  \\u2014   and about what\\u2019s next. Lavrov\\u2019s meeting with the president was scheduled for 10:30 a. m. ET, and it was declared closed to the press. Russian agencies tweeted photos from the Oval Office showing that in addition to Lavrov, Trump shook hands with Russia\\u2019s ambassador to America, Sergey Kislyak  \\u2014   a key figure in the investigation into Trump\\u2019s ousted national security adviser, Michael Flynn. After the Lavrov session had concluded, members of the U. S. media were allowed into the Oval Office, where they found the president sitting with Henry Kissinger, who served as President Richard Nixon\\u2019s secretary of state. The meeting hadn\\u2019t been listed on the president\\u2019s official schedule. Trump said he and Kissinger had met to talk \\u201dabout Russia and various other matters,\\u201d according to the pool report. To a question about Comey, Trump reportedly replied, \\u201dHe wasn\\u2019t doing a good job. Very simply. He was not doing a good job.\\u201d The president also said the issue had not affected his meeting with Lavrov. Lavrov arrived in Washington on Tuesday. He met with Secretary of State Rex Tillerson at the White House early Wednesday, ahead of his visit to the Oval Office. Tillerson and Lavrov made a brief appearance Wednesday morning for a   and as Tillerson began to lead his guest back behind closed doors, Lavrov responded to a question about Comey\\u2019s firing. When a reporter asked whether the dismissal has \\u201dcast a shadow\\u201d over their talks, Lavrov stopped and seemed to look genuinely quizzical when he responded, \\u201dWas he fired?\\u201d  \\u2014   but then adopted a deadpan tone as he told the reporter, \\u201dYou are kidding, you are kidding.\\u201d With a theatrical twitch of his head, the Russian diplomat then followed his American counterpart away from the media. The exchange was not included in the State Department\\u2019s brief video snippet from the   that it posted to Twitter. Tillerson\\u2019s office said his talks with Lavrov would focus on \\u201dUkraine, Syria, and bilateral issues.\\u201d But the Russians\\u2019 visit to the White House also came as the Kremlin made its first public comments on Comey\\u2019s removal. When Russian presidential spokesman Dmitry Peskov was asked how the firing might affect U. S.  relations, Peskov replied, \\u201dWe hope that it will not affect them at all. That\\u2019s the United States\\u2019 internal affair. That\\u2019s the U. S. president\\u2019s independent decision, which has nothing to do and should have nothing to do with Russia.\\u201d Comey\\u2019s dismissal has sparked new calls for an independent probe into Russia\\u2019s attempts to influence last year\\u2019s U. S. presidential election  \\u2014   despite the Trump administration\\u2019s assertion that Comey was removed over his handling of the investigation into Clinton\\u2019s private email server. \\u201dThis is nothing less than Nixonian,\\u201d said Patrick Leahy,  . a longtime member of the Senate Judiciary Committee. Announcing Comey\\u2019s abrupt firing Tuesday afternoon, White House press secretary Sean Spicer said the president \\u201dacted based on the clear recommendations of both Deputy Attorney General Rod Rosenstein and Attorney General Jeff Sessions.\\u201d\",\n          \"Republican presidential nominee Donald Trump has been calling for a criminal investigation of his political opponent Hillary Clinton on the campaign trail this year. Trump is angry the FBI probe of Clinton\\u2019s email server ended with no charges. Now, he says, an independent outsider needs to look at the Clinton Foundation. \\u201dThe Justice Department is required to appoint an independent special prosecutor because it has proven itself to be really, sadly, a political arm of the White House,\\u201d Trump said in Akron, Ohio, last week. Trump has offered no evidence to back up his claims that the Justice Department has been corrupted. But his call for a special prosecutor sounds familiar to people who study the intersection of law and politics. \\u201dIf you look at the chronology, pretty much the political party that does not control the White House tends to want special prosecutors and independent counsel laws,\\u201d said Ken Gormley, president of Duquesne University in Pittsburgh and the author of two books on special prosecutors. \\u201dAs soon as the party is in the White House, they don\\u2019t want it anymore.\\u201d In modern times, the idea first cropped up during the 1970s. President Richard Nixon notoriously fired a special prosecutor who was getting close to the tapes that would bring down his administration. Five months after what became known as the Saturday Night Massacre, Congress started work on an independent counsel law. The idea was to insulate sensitive criminal investigations from meddling by the White House. The law would stand for about 20 years. It didn\\u2019t produce many criminal convictions, but it did stir up a lot of trouble for presidents  \\u2014   and the people close to them. In 1996, Hillary Clinton became the first sitting first lady to testify before a grand jury. This one was investigating the Whitewater affair, an investigation that began with a real estate investment and morphed into scrutiny of President Bill Clinton\\u2019s sexual improprieties. Hillary Clinton was never charged with wrongdoing, but the investigation left a mark. Years later, Gormley interviewed Bill Clinton about it. \\u201dHe made clear that his decision to allow and endorse the appointment of an independent counsel in the Whitewater matter was one of the biggest mistakes of his presidency,\\u201d Gormley said. \\u201dIn fact, the words he used at one point is that it was like Wile E. Coyote and the Road Runner. And almost from the moment he was in the White House, there were political opponents using special prosecutors to bring him down, and they were off to the races.\\u201d By 1999, when Congress considered whether to renew the statute, opposition came from nearly all sides. Even Whitewater independent counsel Ken Starr told Congress the law had become a political weapon. \\u201dThe statutory mechanism intended to enhance confidence in law enforcement had the effect of weakening it,\\u201d Starr said, in arguing the law should not be reauthorized. \\u201dJurisdiction and authority over these sensitive matters ought to be returned to the Justice Department. And who will oversee them? The Congress, the press, the public.\\u201d That\\u2019s exactly what happened. The law expired. But the Justice Department can still use special prosecutors. They\\u2019re career lawyers, protected from political leaders at Justice by a firewall. During the George W. Bush years, special prosecutor Patrick Fitzgerald charged and convicted a top aide to the vice president. Justice Department leaders went on to deploy special prosecutors to investigate the firings of U. S. attorneys and the destruction of videotapes that showed torture of detainees. But authorities have relied on those prosecutors only sparingly, a position adopted by many, including Gormley. \\u201dI think I\\u2019ve come to the conclusion that we are better off when we have less of these investigations rather than more,\\u201d he said. \\u201dThey should be reserved for very special and extreme occasions.\\u201d Otherwise, Gormley argued, they could distract from what\\u2019s really important. \\u201dAs we as a country were just obsessed with the issue of Whitewater, Paula Jones, Monica Lewinsky and all of these distractions during the 1990s, there were people inside and outside the country literally plotting our attack,\\u201d he said. One of them, Gormley said, was Osama bin Laden.\"\n        ],\n        \"semantic_type\": \"\",\n        \"description\": \"\"\n      }\n    }\n  ]\n}"
            }
          },
          "metadata": {},
          "execution_count": 5
        }
      ]
    },
    {
      "cell_type": "code",
      "source": [
        "from sklearn.feature_extraction.text import CountVectorizer"
      ],
      "metadata": {
        "id": "shN0MSj3eglK"
      },
      "execution_count": null,
      "outputs": []
    },
    {
      "cell_type": "code",
      "source": [
        "cv=CountVectorizer(max_df=0.95,min_df=2,stop_words='english')"
      ],
      "metadata": {
        "id": "86ayy1tUetom"
      },
      "execution_count": null,
      "outputs": []
    },
    {
      "cell_type": "code",
      "source": [
        "dtm= cv.fit_transform(npr['Article'])"
      ],
      "metadata": {
        "id": "knRMMHg8fAT9"
      },
      "execution_count": null,
      "outputs": []
    },
    {
      "cell_type": "code",
      "source": [
        "dtm"
      ],
      "metadata": {
        "colab": {
          "base_uri": "https://localhost:8080/"
        },
        "id": "Nd7iWWmHfIO3",
        "outputId": "d477f3d3-2b77-47ac-8699-2267380dc73c"
      },
      "execution_count": null,
      "outputs": [
        {
          "output_type": "execute_result",
          "data": {
            "text/plain": [
              "<11992x54777 sparse matrix of type '<class 'numpy.int64'>'\n",
              "\twith 3033388 stored elements in Compressed Sparse Row format>"
            ]
          },
          "metadata": {},
          "execution_count": 9
        }
      ]
    },
    {
      "cell_type": "markdown",
      "source": [
        "#**LDA**"
      ],
      "metadata": {
        "id": "4tnczfJ7fm2f"
      }
    },
    {
      "cell_type": "code",
      "source": [
        "from sklearn.decomposition import LatentDirichletAllocation"
      ],
      "metadata": {
        "id": "AUdZHB9LfqoF"
      },
      "execution_count": null,
      "outputs": []
    },
    {
      "cell_type": "code",
      "source": [
        "lda=LatentDirichletAllocation(n_components=6,random_state=42)"
      ],
      "metadata": {
        "id": "cbDtVzkyf8sj"
      },
      "execution_count": null,
      "outputs": []
    },
    {
      "cell_type": "code",
      "source": [
        "lda.fit(dtm)"
      ],
      "metadata": {
        "colab": {
          "base_uri": "https://localhost:8080/",
          "height": 79
        },
        "id": "EOAHFvEngNET",
        "outputId": "492ec2fd-a7f6-4f3c-d430-d66e9709b856"
      },
      "execution_count": null,
      "outputs": [
        {
          "output_type": "execute_result",
          "data": {
            "text/plain": [
              "LatentDirichletAllocation(n_components=6, random_state=42)"
            ],
            "text/html": [
              "<style>#sk-container-id-1 {\n",
              "  /* Definition of color scheme common for light and dark mode */\n",
              "  --sklearn-color-text: #000;\n",
              "  --sklearn-color-text-muted: #666;\n",
              "  --sklearn-color-line: gray;\n",
              "  /* Definition of color scheme for unfitted estimators */\n",
              "  --sklearn-color-unfitted-level-0: #fff5e6;\n",
              "  --sklearn-color-unfitted-level-1: #f6e4d2;\n",
              "  --sklearn-color-unfitted-level-2: #ffe0b3;\n",
              "  --sklearn-color-unfitted-level-3: chocolate;\n",
              "  /* Definition of color scheme for fitted estimators */\n",
              "  --sklearn-color-fitted-level-0: #f0f8ff;\n",
              "  --sklearn-color-fitted-level-1: #d4ebff;\n",
              "  --sklearn-color-fitted-level-2: #b3dbfd;\n",
              "  --sklearn-color-fitted-level-3: cornflowerblue;\n",
              "\n",
              "  /* Specific color for light theme */\n",
              "  --sklearn-color-text-on-default-background: var(--sg-text-color, var(--theme-code-foreground, var(--jp-content-font-color1, black)));\n",
              "  --sklearn-color-background: var(--sg-background-color, var(--theme-background, var(--jp-layout-color0, white)));\n",
              "  --sklearn-color-border-box: var(--sg-text-color, var(--theme-code-foreground, var(--jp-content-font-color1, black)));\n",
              "  --sklearn-color-icon: #696969;\n",
              "\n",
              "  @media (prefers-color-scheme: dark) {\n",
              "    /* Redefinition of color scheme for dark theme */\n",
              "    --sklearn-color-text-on-default-background: var(--sg-text-color, var(--theme-code-foreground, var(--jp-content-font-color1, white)));\n",
              "    --sklearn-color-background: var(--sg-background-color, var(--theme-background, var(--jp-layout-color0, #111)));\n",
              "    --sklearn-color-border-box: var(--sg-text-color, var(--theme-code-foreground, var(--jp-content-font-color1, white)));\n",
              "    --sklearn-color-icon: #878787;\n",
              "  }\n",
              "}\n",
              "\n",
              "#sk-container-id-1 {\n",
              "  color: var(--sklearn-color-text);\n",
              "}\n",
              "\n",
              "#sk-container-id-1 pre {\n",
              "  padding: 0;\n",
              "}\n",
              "\n",
              "#sk-container-id-1 input.sk-hidden--visually {\n",
              "  border: 0;\n",
              "  clip: rect(1px 1px 1px 1px);\n",
              "  clip: rect(1px, 1px, 1px, 1px);\n",
              "  height: 1px;\n",
              "  margin: -1px;\n",
              "  overflow: hidden;\n",
              "  padding: 0;\n",
              "  position: absolute;\n",
              "  width: 1px;\n",
              "}\n",
              "\n",
              "#sk-container-id-1 div.sk-dashed-wrapped {\n",
              "  border: 1px dashed var(--sklearn-color-line);\n",
              "  margin: 0 0.4em 0.5em 0.4em;\n",
              "  box-sizing: border-box;\n",
              "  padding-bottom: 0.4em;\n",
              "  background-color: var(--sklearn-color-background);\n",
              "}\n",
              "\n",
              "#sk-container-id-1 div.sk-container {\n",
              "  /* jupyter's `normalize.less` sets `[hidden] { display: none; }`\n",
              "     but bootstrap.min.css set `[hidden] { display: none !important; }`\n",
              "     so we also need the `!important` here to be able to override the\n",
              "     default hidden behavior on the sphinx rendered scikit-learn.org.\n",
              "     See: https://github.com/scikit-learn/scikit-learn/issues/21755 */\n",
              "  display: inline-block !important;\n",
              "  position: relative;\n",
              "}\n",
              "\n",
              "#sk-container-id-1 div.sk-text-repr-fallback {\n",
              "  display: none;\n",
              "}\n",
              "\n",
              "div.sk-parallel-item,\n",
              "div.sk-serial,\n",
              "div.sk-item {\n",
              "  /* draw centered vertical line to link estimators */\n",
              "  background-image: linear-gradient(var(--sklearn-color-text-on-default-background), var(--sklearn-color-text-on-default-background));\n",
              "  background-size: 2px 100%;\n",
              "  background-repeat: no-repeat;\n",
              "  background-position: center center;\n",
              "}\n",
              "\n",
              "/* Parallel-specific style estimator block */\n",
              "\n",
              "#sk-container-id-1 div.sk-parallel-item::after {\n",
              "  content: \"\";\n",
              "  width: 100%;\n",
              "  border-bottom: 2px solid var(--sklearn-color-text-on-default-background);\n",
              "  flex-grow: 1;\n",
              "}\n",
              "\n",
              "#sk-container-id-1 div.sk-parallel {\n",
              "  display: flex;\n",
              "  align-items: stretch;\n",
              "  justify-content: center;\n",
              "  background-color: var(--sklearn-color-background);\n",
              "  position: relative;\n",
              "}\n",
              "\n",
              "#sk-container-id-1 div.sk-parallel-item {\n",
              "  display: flex;\n",
              "  flex-direction: column;\n",
              "}\n",
              "\n",
              "#sk-container-id-1 div.sk-parallel-item:first-child::after {\n",
              "  align-self: flex-end;\n",
              "  width: 50%;\n",
              "}\n",
              "\n",
              "#sk-container-id-1 div.sk-parallel-item:last-child::after {\n",
              "  align-self: flex-start;\n",
              "  width: 50%;\n",
              "}\n",
              "\n",
              "#sk-container-id-1 div.sk-parallel-item:only-child::after {\n",
              "  width: 0;\n",
              "}\n",
              "\n",
              "/* Serial-specific style estimator block */\n",
              "\n",
              "#sk-container-id-1 div.sk-serial {\n",
              "  display: flex;\n",
              "  flex-direction: column;\n",
              "  align-items: center;\n",
              "  background-color: var(--sklearn-color-background);\n",
              "  padding-right: 1em;\n",
              "  padding-left: 1em;\n",
              "}\n",
              "\n",
              "\n",
              "/* Toggleable style: style used for estimator/Pipeline/ColumnTransformer box that is\n",
              "clickable and can be expanded/collapsed.\n",
              "- Pipeline and ColumnTransformer use this feature and define the default style\n",
              "- Estimators will overwrite some part of the style using the `sk-estimator` class\n",
              "*/\n",
              "\n",
              "/* Pipeline and ColumnTransformer style (default) */\n",
              "\n",
              "#sk-container-id-1 div.sk-toggleable {\n",
              "  /* Default theme specific background. It is overwritten whether we have a\n",
              "  specific estimator or a Pipeline/ColumnTransformer */\n",
              "  background-color: var(--sklearn-color-background);\n",
              "}\n",
              "\n",
              "/* Toggleable label */\n",
              "#sk-container-id-1 label.sk-toggleable__label {\n",
              "  cursor: pointer;\n",
              "  display: flex;\n",
              "  width: 100%;\n",
              "  margin-bottom: 0;\n",
              "  padding: 0.5em;\n",
              "  box-sizing: border-box;\n",
              "  text-align: center;\n",
              "  align-items: start;\n",
              "  justify-content: space-between;\n",
              "  gap: 0.5em;\n",
              "}\n",
              "\n",
              "#sk-container-id-1 label.sk-toggleable__label .caption {\n",
              "  font-size: 0.6rem;\n",
              "  font-weight: lighter;\n",
              "  color: var(--sklearn-color-text-muted);\n",
              "}\n",
              "\n",
              "#sk-container-id-1 label.sk-toggleable__label-arrow:before {\n",
              "  /* Arrow on the left of the label */\n",
              "  content: \"▸\";\n",
              "  float: left;\n",
              "  margin-right: 0.25em;\n",
              "  color: var(--sklearn-color-icon);\n",
              "}\n",
              "\n",
              "#sk-container-id-1 label.sk-toggleable__label-arrow:hover:before {\n",
              "  color: var(--sklearn-color-text);\n",
              "}\n",
              "\n",
              "/* Toggleable content - dropdown */\n",
              "\n",
              "#sk-container-id-1 div.sk-toggleable__content {\n",
              "  max-height: 0;\n",
              "  max-width: 0;\n",
              "  overflow: hidden;\n",
              "  text-align: left;\n",
              "  /* unfitted */\n",
              "  background-color: var(--sklearn-color-unfitted-level-0);\n",
              "}\n",
              "\n",
              "#sk-container-id-1 div.sk-toggleable__content.fitted {\n",
              "  /* fitted */\n",
              "  background-color: var(--sklearn-color-fitted-level-0);\n",
              "}\n",
              "\n",
              "#sk-container-id-1 div.sk-toggleable__content pre {\n",
              "  margin: 0.2em;\n",
              "  border-radius: 0.25em;\n",
              "  color: var(--sklearn-color-text);\n",
              "  /* unfitted */\n",
              "  background-color: var(--sklearn-color-unfitted-level-0);\n",
              "}\n",
              "\n",
              "#sk-container-id-1 div.sk-toggleable__content.fitted pre {\n",
              "  /* unfitted */\n",
              "  background-color: var(--sklearn-color-fitted-level-0);\n",
              "}\n",
              "\n",
              "#sk-container-id-1 input.sk-toggleable__control:checked~div.sk-toggleable__content {\n",
              "  /* Expand drop-down */\n",
              "  max-height: 200px;\n",
              "  max-width: 100%;\n",
              "  overflow: auto;\n",
              "}\n",
              "\n",
              "#sk-container-id-1 input.sk-toggleable__control:checked~label.sk-toggleable__label-arrow:before {\n",
              "  content: \"▾\";\n",
              "}\n",
              "\n",
              "/* Pipeline/ColumnTransformer-specific style */\n",
              "\n",
              "#sk-container-id-1 div.sk-label input.sk-toggleable__control:checked~label.sk-toggleable__label {\n",
              "  color: var(--sklearn-color-text);\n",
              "  background-color: var(--sklearn-color-unfitted-level-2);\n",
              "}\n",
              "\n",
              "#sk-container-id-1 div.sk-label.fitted input.sk-toggleable__control:checked~label.sk-toggleable__label {\n",
              "  background-color: var(--sklearn-color-fitted-level-2);\n",
              "}\n",
              "\n",
              "/* Estimator-specific style */\n",
              "\n",
              "/* Colorize estimator box */\n",
              "#sk-container-id-1 div.sk-estimator input.sk-toggleable__control:checked~label.sk-toggleable__label {\n",
              "  /* unfitted */\n",
              "  background-color: var(--sklearn-color-unfitted-level-2);\n",
              "}\n",
              "\n",
              "#sk-container-id-1 div.sk-estimator.fitted input.sk-toggleable__control:checked~label.sk-toggleable__label {\n",
              "  /* fitted */\n",
              "  background-color: var(--sklearn-color-fitted-level-2);\n",
              "}\n",
              "\n",
              "#sk-container-id-1 div.sk-label label.sk-toggleable__label,\n",
              "#sk-container-id-1 div.sk-label label {\n",
              "  /* The background is the default theme color */\n",
              "  color: var(--sklearn-color-text-on-default-background);\n",
              "}\n",
              "\n",
              "/* On hover, darken the color of the background */\n",
              "#sk-container-id-1 div.sk-label:hover label.sk-toggleable__label {\n",
              "  color: var(--sklearn-color-text);\n",
              "  background-color: var(--sklearn-color-unfitted-level-2);\n",
              "}\n",
              "\n",
              "/* Label box, darken color on hover, fitted */\n",
              "#sk-container-id-1 div.sk-label.fitted:hover label.sk-toggleable__label.fitted {\n",
              "  color: var(--sklearn-color-text);\n",
              "  background-color: var(--sklearn-color-fitted-level-2);\n",
              "}\n",
              "\n",
              "/* Estimator label */\n",
              "\n",
              "#sk-container-id-1 div.sk-label label {\n",
              "  font-family: monospace;\n",
              "  font-weight: bold;\n",
              "  display: inline-block;\n",
              "  line-height: 1.2em;\n",
              "}\n",
              "\n",
              "#sk-container-id-1 div.sk-label-container {\n",
              "  text-align: center;\n",
              "}\n",
              "\n",
              "/* Estimator-specific */\n",
              "#sk-container-id-1 div.sk-estimator {\n",
              "  font-family: monospace;\n",
              "  border: 1px dotted var(--sklearn-color-border-box);\n",
              "  border-radius: 0.25em;\n",
              "  box-sizing: border-box;\n",
              "  margin-bottom: 0.5em;\n",
              "  /* unfitted */\n",
              "  background-color: var(--sklearn-color-unfitted-level-0);\n",
              "}\n",
              "\n",
              "#sk-container-id-1 div.sk-estimator.fitted {\n",
              "  /* fitted */\n",
              "  background-color: var(--sklearn-color-fitted-level-0);\n",
              "}\n",
              "\n",
              "/* on hover */\n",
              "#sk-container-id-1 div.sk-estimator:hover {\n",
              "  /* unfitted */\n",
              "  background-color: var(--sklearn-color-unfitted-level-2);\n",
              "}\n",
              "\n",
              "#sk-container-id-1 div.sk-estimator.fitted:hover {\n",
              "  /* fitted */\n",
              "  background-color: var(--sklearn-color-fitted-level-2);\n",
              "}\n",
              "\n",
              "/* Specification for estimator info (e.g. \"i\" and \"?\") */\n",
              "\n",
              "/* Common style for \"i\" and \"?\" */\n",
              "\n",
              ".sk-estimator-doc-link,\n",
              "a:link.sk-estimator-doc-link,\n",
              "a:visited.sk-estimator-doc-link {\n",
              "  float: right;\n",
              "  font-size: smaller;\n",
              "  line-height: 1em;\n",
              "  font-family: monospace;\n",
              "  background-color: var(--sklearn-color-background);\n",
              "  border-radius: 1em;\n",
              "  height: 1em;\n",
              "  width: 1em;\n",
              "  text-decoration: none !important;\n",
              "  margin-left: 0.5em;\n",
              "  text-align: center;\n",
              "  /* unfitted */\n",
              "  border: var(--sklearn-color-unfitted-level-1) 1pt solid;\n",
              "  color: var(--sklearn-color-unfitted-level-1);\n",
              "}\n",
              "\n",
              ".sk-estimator-doc-link.fitted,\n",
              "a:link.sk-estimator-doc-link.fitted,\n",
              "a:visited.sk-estimator-doc-link.fitted {\n",
              "  /* fitted */\n",
              "  border: var(--sklearn-color-fitted-level-1) 1pt solid;\n",
              "  color: var(--sklearn-color-fitted-level-1);\n",
              "}\n",
              "\n",
              "/* On hover */\n",
              "div.sk-estimator:hover .sk-estimator-doc-link:hover,\n",
              ".sk-estimator-doc-link:hover,\n",
              "div.sk-label-container:hover .sk-estimator-doc-link:hover,\n",
              ".sk-estimator-doc-link:hover {\n",
              "  /* unfitted */\n",
              "  background-color: var(--sklearn-color-unfitted-level-3);\n",
              "  color: var(--sklearn-color-background);\n",
              "  text-decoration: none;\n",
              "}\n",
              "\n",
              "div.sk-estimator.fitted:hover .sk-estimator-doc-link.fitted:hover,\n",
              ".sk-estimator-doc-link.fitted:hover,\n",
              "div.sk-label-container:hover .sk-estimator-doc-link.fitted:hover,\n",
              ".sk-estimator-doc-link.fitted:hover {\n",
              "  /* fitted */\n",
              "  background-color: var(--sklearn-color-fitted-level-3);\n",
              "  color: var(--sklearn-color-background);\n",
              "  text-decoration: none;\n",
              "}\n",
              "\n",
              "/* Span, style for the box shown on hovering the info icon */\n",
              ".sk-estimator-doc-link span {\n",
              "  display: none;\n",
              "  z-index: 9999;\n",
              "  position: relative;\n",
              "  font-weight: normal;\n",
              "  right: .2ex;\n",
              "  padding: .5ex;\n",
              "  margin: .5ex;\n",
              "  width: min-content;\n",
              "  min-width: 20ex;\n",
              "  max-width: 50ex;\n",
              "  color: var(--sklearn-color-text);\n",
              "  box-shadow: 2pt 2pt 4pt #999;\n",
              "  /* unfitted */\n",
              "  background: var(--sklearn-color-unfitted-level-0);\n",
              "  border: .5pt solid var(--sklearn-color-unfitted-level-3);\n",
              "}\n",
              "\n",
              ".sk-estimator-doc-link.fitted span {\n",
              "  /* fitted */\n",
              "  background: var(--sklearn-color-fitted-level-0);\n",
              "  border: var(--sklearn-color-fitted-level-3);\n",
              "}\n",
              "\n",
              ".sk-estimator-doc-link:hover span {\n",
              "  display: block;\n",
              "}\n",
              "\n",
              "/* \"?\"-specific style due to the `<a>` HTML tag */\n",
              "\n",
              "#sk-container-id-1 a.estimator_doc_link {\n",
              "  float: right;\n",
              "  font-size: 1rem;\n",
              "  line-height: 1em;\n",
              "  font-family: monospace;\n",
              "  background-color: var(--sklearn-color-background);\n",
              "  border-radius: 1rem;\n",
              "  height: 1rem;\n",
              "  width: 1rem;\n",
              "  text-decoration: none;\n",
              "  /* unfitted */\n",
              "  color: var(--sklearn-color-unfitted-level-1);\n",
              "  border: var(--sklearn-color-unfitted-level-1) 1pt solid;\n",
              "}\n",
              "\n",
              "#sk-container-id-1 a.estimator_doc_link.fitted {\n",
              "  /* fitted */\n",
              "  border: var(--sklearn-color-fitted-level-1) 1pt solid;\n",
              "  color: var(--sklearn-color-fitted-level-1);\n",
              "}\n",
              "\n",
              "/* On hover */\n",
              "#sk-container-id-1 a.estimator_doc_link:hover {\n",
              "  /* unfitted */\n",
              "  background-color: var(--sklearn-color-unfitted-level-3);\n",
              "  color: var(--sklearn-color-background);\n",
              "  text-decoration: none;\n",
              "}\n",
              "\n",
              "#sk-container-id-1 a.estimator_doc_link.fitted:hover {\n",
              "  /* fitted */\n",
              "  background-color: var(--sklearn-color-fitted-level-3);\n",
              "}\n",
              "</style><div id=\"sk-container-id-1\" class=\"sk-top-container\"><div class=\"sk-text-repr-fallback\"><pre>LatentDirichletAllocation(n_components=6, random_state=42)</pre><b>In a Jupyter environment, please rerun this cell to show the HTML representation or trust the notebook. <br />On GitHub, the HTML representation is unable to render, please try loading this page with nbviewer.org.</b></div><div class=\"sk-container\" hidden><div class=\"sk-item\"><div class=\"sk-estimator fitted sk-toggleable\"><input class=\"sk-toggleable__control sk-hidden--visually\" id=\"sk-estimator-id-1\" type=\"checkbox\" checked><label for=\"sk-estimator-id-1\" class=\"sk-toggleable__label fitted sk-toggleable__label-arrow\"><div><div>LatentDirichletAllocation</div></div><div><a class=\"sk-estimator-doc-link fitted\" rel=\"noreferrer\" target=\"_blank\" href=\"https://scikit-learn.org/1.6/modules/generated/sklearn.decomposition.LatentDirichletAllocation.html\">?<span>Documentation for LatentDirichletAllocation</span></a><span class=\"sk-estimator-doc-link fitted\">i<span>Fitted</span></span></div></label><div class=\"sk-toggleable__content fitted\"><pre>LatentDirichletAllocation(n_components=6, random_state=42)</pre></div> </div></div></div></div>"
            ]
          },
          "metadata": {},
          "execution_count": 12
        }
      ]
    },
    {
      "cell_type": "code",
      "source": [
        "len(cv.get_feature_names_out())"
      ],
      "metadata": {
        "colab": {
          "base_uri": "https://localhost:8080/"
        },
        "id": "s0uipf47gQL_",
        "outputId": "ab899890-6a34-41a5-fcb2-46a6ed243438"
      },
      "execution_count": null,
      "outputs": [
        {
          "output_type": "execute_result",
          "data": {
            "text/plain": [
              "54777"
            ]
          },
          "metadata": {},
          "execution_count": 13
        }
      ]
    },
    {
      "cell_type": "code",
      "source": [
        "import random"
      ],
      "metadata": {
        "id": "rCAOTsF4g5h7"
      },
      "execution_count": null,
      "outputs": []
    },
    {
      "cell_type": "code",
      "source": [
        "for i in range(10):\n",
        "  random_word_id=random.randint(0,54776)\n",
        "  print(cv.get_feature_names_out()[random_word_id])"
      ],
      "metadata": {
        "colab": {
          "base_uri": "https://localhost:8080/"
        },
        "id": "uyiU958jg--v",
        "outputId": "cf73973d-6cb6-450e-af95-bb11f77c6678"
      },
      "execution_count": null,
      "outputs": [
        {
          "output_type": "stream",
          "name": "stdout",
          "text": [
            "vacuumed\n",
            "cognition\n",
            "whaley\n",
            "tour\n",
            "reheat\n",
            "seconds\n",
            "extremities\n",
            "broiled\n",
            "coliform\n",
            "fletcher\n"
          ]
        }
      ]
    },
    {
      "cell_type": "code",
      "source": [
        "len(lda.components_)"
      ],
      "metadata": {
        "colab": {
          "base_uri": "https://localhost:8080/"
        },
        "id": "7NCffuhBhcax",
        "outputId": "e159661a-382c-44c2-b2c8-ad400639c616"
      },
      "execution_count": null,
      "outputs": [
        {
          "output_type": "execute_result",
          "data": {
            "text/plain": [
              "6"
            ]
          },
          "metadata": {},
          "execution_count": 16
        }
      ]
    },
    {
      "cell_type": "code",
      "source": [
        "single_topic=lda.components_[0]"
      ],
      "metadata": {
        "id": "YsgM4-M8htUC"
      },
      "execution_count": null,
      "outputs": []
    },
    {
      "cell_type": "code",
      "source": [
        "single_topic.argsort()"
      ],
      "metadata": {
        "colab": {
          "base_uri": "https://localhost:8080/"
        },
        "id": "MhZ8VNgfPmLP",
        "outputId": "b2bbf7c0-a1cf-48d0-f37c-adf841d50c60"
      },
      "execution_count": null,
      "outputs": [
        {
          "output_type": "execute_result",
          "data": {
            "text/plain": [
              "array([ 2475, 18302, 35285, ..., 22673, 42561, 42993])"
            ]
          },
          "metadata": {},
          "execution_count": 18
        }
      ]
    },
    {
      "cell_type": "code",
      "source": [
        "import numpy as np\n",
        "arr=np.array([10,200,1])\n",
        "arr"
      ],
      "metadata": {
        "colab": {
          "base_uri": "https://localhost:8080/"
        },
        "id": "lu5wN8NkPtmx",
        "outputId": "180ed06c-6b2a-4e12-cc26-2146687423df"
      },
      "execution_count": null,
      "outputs": [
        {
          "output_type": "execute_result",
          "data": {
            "text/plain": [
              "array([ 10, 200,   1])"
            ]
          },
          "metadata": {},
          "execution_count": 19
        }
      ]
    },
    {
      "cell_type": "code",
      "source": [
        "arr.argsort()"
      ],
      "metadata": {
        "colab": {
          "base_uri": "https://localhost:8080/"
        },
        "id": "GZMe3nq5QEF2",
        "outputId": "3e629c42-53d9-4253-820d-72d3040e616b"
      },
      "execution_count": null,
      "outputs": [
        {
          "output_type": "execute_result",
          "data": {
            "text/plain": [
              "array([2, 0, 1])"
            ]
          },
          "metadata": {},
          "execution_count": 20
        }
      ]
    },
    {
      "cell_type": "code",
      "source": [
        "single_topic.argsort()[-10:]"
      ],
      "metadata": {
        "colab": {
          "base_uri": "https://localhost:8080/"
        },
        "id": "EKC5xRTQQK9D",
        "outputId": "5ac38bff-c0b6-4860-99e3-9b2c8617d0a4"
      },
      "execution_count": null,
      "outputs": [
        {
          "output_type": "execute_result",
          "data": {
            "text/plain": [
              "array([31464, 54403,  8149, 36310, 10425, 33390, 36283, 22673, 42561,\n",
              "       42993])"
            ]
          },
          "metadata": {},
          "execution_count": 21
        }
      ]
    },
    {
      "cell_type": "code",
      "source": [
        "top_word_indices = single_topic.argsort()[-10:]"
      ],
      "metadata": {
        "id": "wAT6s7lDQVBg"
      },
      "execution_count": null,
      "outputs": []
    },
    {
      "cell_type": "code",
      "source": [
        "for index_value in top_word_indices:\n",
        "  print(cv.get_feature_names_out()[index_value])"
      ],
      "metadata": {
        "colab": {
          "base_uri": "https://localhost:8080/"
        },
        "id": "zeD6yPHvQ0Od",
        "outputId": "0d5b8cf5-61ea-47bd-cd28-5d1b56406a90"
      },
      "execution_count": null,
      "outputs": [
        {
          "output_type": "stream",
          "name": "stdout",
          "text": [
            "million\n",
            "year\n",
            "care\n",
            "percent\n",
            "company\n",
            "new\n",
            "people\n",
            "health\n",
            "said\n",
            "says\n"
          ]
        }
      ]
    },
    {
      "cell_type": "code",
      "source": [
        "top_twenty_incidices=single_topic.argsort()[-20:]"
      ],
      "metadata": {
        "id": "ApISdmTfRgux"
      },
      "execution_count": null,
      "outputs": []
    },
    {
      "cell_type": "code",
      "source": [
        "for index in top_twenty_incidices:\n",
        "  print(cv.get_feature_names_out()[index])"
      ],
      "metadata": {
        "colab": {
          "base_uri": "https://localhost:8080/"
        },
        "id": "C98-j72wRv9c",
        "outputId": "2bbbfac3-7669-45bc-a634-afe0edba5d5d"
      },
      "execution_count": null,
      "outputs": [
        {
          "output_type": "stream",
          "name": "stdout",
          "text": [
            "states\n",
            "pay\n",
            "tax\n",
            "insurance\n",
            "state\n",
            "000\n",
            "companies\n",
            "money\n",
            "federal\n",
            "government\n",
            "million\n",
            "year\n",
            "care\n",
            "percent\n",
            "company\n",
            "new\n",
            "people\n",
            "health\n",
            "said\n",
            "says\n"
          ]
        }
      ]
    },
    {
      "cell_type": "markdown",
      "source": [
        "grab highest probability words per topic\n",
        "\n"
      ],
      "metadata": {
        "id": "5mDLq80wR5kI"
      }
    },
    {
      "cell_type": "code",
      "source": [
        "for index,topic in enumerate(lda.components_):\n",
        "  print(f\"THE TOP 15 WORDS FOR TOPIC #{index}\")\n",
        "  print([cv.get_feature_names_out()[index] for index in topic.argsort()[-15:]])\n",
        "  print('\\n')\n",
        "  print('\\n')"
      ],
      "metadata": {
        "colab": {
          "base_uri": "https://localhost:8080/"
        },
        "id": "cKpUoH_ISB3T",
        "outputId": "a63471d9-dcb3-465f-a2cb-5b3d8fa961f6"
      },
      "execution_count": null,
      "outputs": [
        {
          "output_type": "stream",
          "name": "stdout",
          "text": [
            "THE TOP 15 WORDS FOR TOPIC #0\n",
            "['000', 'companies', 'money', 'federal', 'government', 'million', 'year', 'care', 'percent', 'company', 'new', 'people', 'health', 'said', 'says']\n",
            "\n",
            "\n",
            "\n",
            "\n",
            "THE TOP 15 WORDS FOR TOPIC #1\n",
            "['war', 'house', 'security', 'russia', 'npr', 'government', 'reports', 'news', 'says', 'told', 'people', 'police', 'president', 'trump', 'said']\n",
            "\n",
            "\n",
            "\n",
            "\n",
            "THE TOP 15 WORDS FOR TOPIC #2\n",
            "['make', 'way', 'home', 'world', 'day', 'time', 'city', 'water', 'new', 'years', 'food', 'just', 'people', 'like', 'says']\n",
            "\n",
            "\n",
            "\n",
            "\n",
            "THE TOP 15 WORDS FOR TOPIC #3\n",
            "['years', 'don', 'new', 'time', 'university', 'students', 'study', 'just', 'children', 'women', 'like', 'school', 'health', 'people', 'says']\n",
            "\n",
            "\n",
            "\n",
            "\n",
            "THE TOP 15 WORDS FOR TOPIC #4\n",
            "['vote', 'election', 'just', 'party', 'new', 'obama', 'court', 'republican', 'campaign', 'people', 'state', 'president', 'clinton', 'said', 'trump']\n",
            "\n",
            "\n",
            "\n",
            "\n",
            "THE TOP 15 WORDS FOR TOPIC #5\n",
            "['going', 've', 'says', 'life', 'don', 'music', 'new', 'way', 'really', 'time', 'know', 'think', 'people', 'just', 'like']\n",
            "\n",
            "\n",
            "\n",
            "\n"
          ]
        }
      ]
    },
    {
      "cell_type": "code",
      "source": [
        "dtm"
      ],
      "metadata": {
        "colab": {
          "base_uri": "https://localhost:8080/"
        },
        "id": "r6V-EnOmSvgr",
        "outputId": "a3bd0f76-0c83-45a8-d473-82e50661d218"
      },
      "execution_count": null,
      "outputs": [
        {
          "output_type": "execute_result",
          "data": {
            "text/plain": [
              "<11992x54777 sparse matrix of type '<class 'numpy.int64'>'\n",
              "\twith 3033388 stored elements in Compressed Sparse Row format>"
            ]
          },
          "metadata": {},
          "execution_count": 30
        }
      ]
    },
    {
      "cell_type": "code",
      "source": [
        "dtm.shape"
      ],
      "metadata": {
        "colab": {
          "base_uri": "https://localhost:8080/"
        },
        "id": "Ux4s8lwZSxjp",
        "outputId": "0cd70f65-cb6e-40c3-990b-bed008840432"
      },
      "execution_count": null,
      "outputs": [
        {
          "output_type": "execute_result",
          "data": {
            "text/plain": [
              "(11992, 54777)"
            ]
          },
          "metadata": {},
          "execution_count": 31
        }
      ]
    },
    {
      "cell_type": "code",
      "source": [
        "len(npr)"
      ],
      "metadata": {
        "colab": {
          "base_uri": "https://localhost:8080/"
        },
        "id": "DeDm-SfMS0gi",
        "outputId": "a447e90b-f5f6-4c45-98f3-b68f46e444c3"
      },
      "execution_count": null,
      "outputs": [
        {
          "output_type": "execute_result",
          "data": {
            "text/plain": [
              "11992"
            ]
          },
          "metadata": {},
          "execution_count": 32
        }
      ]
    },
    {
      "cell_type": "code",
      "source": [
        "topic_results=lda.transform(dtm)"
      ],
      "metadata": {
        "id": "uQXUp39dS_Mh"
      },
      "execution_count": null,
      "outputs": []
    },
    {
      "cell_type": "code",
      "source": [
        "topic_results"
      ],
      "metadata": {
        "colab": {
          "base_uri": "https://localhost:8080/"
        },
        "id": "EssVmZneIH7o",
        "outputId": "f9830ce8-357c-47ec-fca4-4c5fb635163c"
      },
      "execution_count": null,
      "outputs": [
        {
          "output_type": "execute_result",
          "data": {
            "text/plain": [
              "array([[1.79827178e-02, 7.01695372e-01, 2.64251451e-04, 2.64339598e-04,\n",
              "        2.79528760e-01, 2.64559242e-04],\n",
              "       [2.14267353e-02, 9.17826026e-01, 5.16236084e-04, 5.16103781e-04,\n",
              "        5.91982950e-02, 5.16604043e-04],\n",
              "       [3.84749793e-04, 7.19948874e-01, 3.84104797e-04, 3.84101091e-04,\n",
              "        2.78512816e-01, 3.85354161e-04],\n",
              "       ...,\n",
              "       [4.67673961e-04, 1.84931953e-01, 1.75692052e-01, 6.22083841e-01,\n",
              "        1.63559288e-02, 4.68551818e-04],\n",
              "       [5.08137625e-04, 3.95312284e-02, 5.07295183e-04, 5.08938575e-04,\n",
              "        9.58434562e-01, 5.09838667e-04],\n",
              "       [3.37018939e-01, 2.98930623e-04, 3.85259664e-01, 2.98554833e-04,\n",
              "        2.76825111e-01, 2.98799688e-04]])"
            ]
          },
          "metadata": {},
          "execution_count": 36
        }
      ]
    },
    {
      "cell_type": "code",
      "source": [
        "topic_results.shape"
      ],
      "metadata": {
        "colab": {
          "base_uri": "https://localhost:8080/"
        },
        "id": "7W4Tkp3uIbau",
        "outputId": "ffe9089e-44d4-48c0-ffc0-f07ac5189f9f"
      },
      "execution_count": null,
      "outputs": [
        {
          "output_type": "execute_result",
          "data": {
            "text/plain": [
              "(11992, 6)"
            ]
          },
          "metadata": {},
          "execution_count": 37
        }
      ]
    },
    {
      "cell_type": "code",
      "source": [
        "topic_results[0]"
      ],
      "metadata": {
        "colab": {
          "base_uri": "https://localhost:8080/"
        },
        "id": "qarSfSAQIlWc",
        "outputId": "660e1878-3e6d-4184-b33d-d638f920f2fc"
      },
      "execution_count": null,
      "outputs": [
        {
          "output_type": "execute_result",
          "data": {
            "text/plain": [
              "array([1.79827178e-02, 7.01695372e-01, 2.64251451e-04, 2.64339598e-04,\n",
              "       2.79528760e-01, 2.64559242e-04])"
            ]
          },
          "metadata": {},
          "execution_count": 45
        }
      ]
    },
    {
      "cell_type": "code",
      "source": [
        "topic_results[0].round(2)"
      ],
      "metadata": {
        "colab": {
          "base_uri": "https://localhost:8080/"
        },
        "id": "etmw-3i_IoYp",
        "outputId": "c16f8144-8f9d-4aec-81b9-01d17cbce13a"
      },
      "execution_count": null,
      "outputs": [
        {
          "output_type": "execute_result",
          "data": {
            "text/plain": [
              "array([0.02, 0.7 , 0.  , 0.  , 0.28, 0.  ])"
            ]
          },
          "metadata": {},
          "execution_count": 46
        }
      ]
    },
    {
      "cell_type": "code",
      "source": [
        "topic_results[0].argmax()"
      ],
      "metadata": {
        "colab": {
          "base_uri": "https://localhost:8080/"
        },
        "id": "JdbEv3JDIuZX",
        "outputId": "d696160f-23d5-47a5-ed01-82164e6f6fc7"
      },
      "execution_count": null,
      "outputs": [
        {
          "output_type": "execute_result",
          "data": {
            "text/plain": [
              "1"
            ]
          },
          "metadata": {},
          "execution_count": 47
        }
      ]
    },
    {
      "cell_type": "code",
      "source": [
        "npr.head()"
      ],
      "metadata": {
        "colab": {
          "base_uri": "https://localhost:8080/",
          "height": 206
        },
        "id": "YyL5db2zI3C_",
        "outputId": "c107d953-ef39-42e0-c384-56fccf206922"
      },
      "execution_count": null,
      "outputs": [
        {
          "output_type": "execute_result",
          "data": {
            "text/plain": [
              "                                             Article\n",
              "0  In the Washington of 2016, even when the polic...\n",
              "1    Donald Trump has used Twitter  —   his prefe...\n",
              "2    Donald Trump is unabashedly praising Russian...\n",
              "3  Updated at 2:50 p. m. ET, Russian President Vl...\n",
              "4  From photography, illustration and video, to d..."
            ],
            "text/html": [
              "\n",
              "  <div id=\"df-fc42e72f-6106-406f-88b8-25a17fcd655e\" class=\"colab-df-container\">\n",
              "    <div>\n",
              "<style scoped>\n",
              "    .dataframe tbody tr th:only-of-type {\n",
              "        vertical-align: middle;\n",
              "    }\n",
              "\n",
              "    .dataframe tbody tr th {\n",
              "        vertical-align: top;\n",
              "    }\n",
              "\n",
              "    .dataframe thead th {\n",
              "        text-align: right;\n",
              "    }\n",
              "</style>\n",
              "<table border=\"1\" class=\"dataframe\">\n",
              "  <thead>\n",
              "    <tr style=\"text-align: right;\">\n",
              "      <th></th>\n",
              "      <th>Article</th>\n",
              "    </tr>\n",
              "  </thead>\n",
              "  <tbody>\n",
              "    <tr>\n",
              "      <th>0</th>\n",
              "      <td>In the Washington of 2016, even when the polic...</td>\n",
              "    </tr>\n",
              "    <tr>\n",
              "      <th>1</th>\n",
              "      <td>Donald Trump has used Twitter  —   his prefe...</td>\n",
              "    </tr>\n",
              "    <tr>\n",
              "      <th>2</th>\n",
              "      <td>Donald Trump is unabashedly praising Russian...</td>\n",
              "    </tr>\n",
              "    <tr>\n",
              "      <th>3</th>\n",
              "      <td>Updated at 2:50 p. m. ET, Russian President Vl...</td>\n",
              "    </tr>\n",
              "    <tr>\n",
              "      <th>4</th>\n",
              "      <td>From photography, illustration and video, to d...</td>\n",
              "    </tr>\n",
              "  </tbody>\n",
              "</table>\n",
              "</div>\n",
              "    <div class=\"colab-df-buttons\">\n",
              "\n",
              "  <div class=\"colab-df-container\">\n",
              "    <button class=\"colab-df-convert\" onclick=\"convertToInteractive('df-fc42e72f-6106-406f-88b8-25a17fcd655e')\"\n",
              "            title=\"Convert this dataframe to an interactive table.\"\n",
              "            style=\"display:none;\">\n",
              "\n",
              "  <svg xmlns=\"http://www.w3.org/2000/svg\" height=\"24px\" viewBox=\"0 -960 960 960\">\n",
              "    <path d=\"M120-120v-720h720v720H120Zm60-500h600v-160H180v160Zm220 220h160v-160H400v160Zm0 220h160v-160H400v160ZM180-400h160v-160H180v160Zm440 0h160v-160H620v160ZM180-180h160v-160H180v160Zm440 0h160v-160H620v160Z\"/>\n",
              "  </svg>\n",
              "    </button>\n",
              "\n",
              "  <style>\n",
              "    .colab-df-container {\n",
              "      display:flex;\n",
              "      gap: 12px;\n",
              "    }\n",
              "\n",
              "    .colab-df-convert {\n",
              "      background-color: #E8F0FE;\n",
              "      border: none;\n",
              "      border-radius: 50%;\n",
              "      cursor: pointer;\n",
              "      display: none;\n",
              "      fill: #1967D2;\n",
              "      height: 32px;\n",
              "      padding: 0 0 0 0;\n",
              "      width: 32px;\n",
              "    }\n",
              "\n",
              "    .colab-df-convert:hover {\n",
              "      background-color: #E2EBFA;\n",
              "      box-shadow: 0px 1px 2px rgba(60, 64, 67, 0.3), 0px 1px 3px 1px rgba(60, 64, 67, 0.15);\n",
              "      fill: #174EA6;\n",
              "    }\n",
              "\n",
              "    .colab-df-buttons div {\n",
              "      margin-bottom: 4px;\n",
              "    }\n",
              "\n",
              "    [theme=dark] .colab-df-convert {\n",
              "      background-color: #3B4455;\n",
              "      fill: #D2E3FC;\n",
              "    }\n",
              "\n",
              "    [theme=dark] .colab-df-convert:hover {\n",
              "      background-color: #434B5C;\n",
              "      box-shadow: 0px 1px 3px 1px rgba(0, 0, 0, 0.15);\n",
              "      filter: drop-shadow(0px 1px 2px rgba(0, 0, 0, 0.3));\n",
              "      fill: #FFFFFF;\n",
              "    }\n",
              "  </style>\n",
              "\n",
              "    <script>\n",
              "      const buttonEl =\n",
              "        document.querySelector('#df-fc42e72f-6106-406f-88b8-25a17fcd655e button.colab-df-convert');\n",
              "      buttonEl.style.display =\n",
              "        google.colab.kernel.accessAllowed ? 'block' : 'none';\n",
              "\n",
              "      async function convertToInteractive(key) {\n",
              "        const element = document.querySelector('#df-fc42e72f-6106-406f-88b8-25a17fcd655e');\n",
              "        const dataTable =\n",
              "          await google.colab.kernel.invokeFunction('convertToInteractive',\n",
              "                                                    [key], {});\n",
              "        if (!dataTable) return;\n",
              "\n",
              "        const docLinkHtml = 'Like what you see? Visit the ' +\n",
              "          '<a target=\"_blank\" href=https://colab.research.google.com/notebooks/data_table.ipynb>data table notebook</a>'\n",
              "          + ' to learn more about interactive tables.';\n",
              "        element.innerHTML = '';\n",
              "        dataTable['output_type'] = 'display_data';\n",
              "        await google.colab.output.renderOutput(dataTable, element);\n",
              "        const docLink = document.createElement('div');\n",
              "        docLink.innerHTML = docLinkHtml;\n",
              "        element.appendChild(docLink);\n",
              "      }\n",
              "    </script>\n",
              "  </div>\n",
              "\n",
              "\n",
              "<div id=\"df-c5abb95b-789c-4146-8e4d-9a159bfdb73a\">\n",
              "  <button class=\"colab-df-quickchart\" onclick=\"quickchart('df-c5abb95b-789c-4146-8e4d-9a159bfdb73a')\"\n",
              "            title=\"Suggest charts\"\n",
              "            style=\"display:none;\">\n",
              "\n",
              "<svg xmlns=\"http://www.w3.org/2000/svg\" height=\"24px\"viewBox=\"0 0 24 24\"\n",
              "     width=\"24px\">\n",
              "    <g>\n",
              "        <path d=\"M19 3H5c-1.1 0-2 .9-2 2v14c0 1.1.9 2 2 2h14c1.1 0 2-.9 2-2V5c0-1.1-.9-2-2-2zM9 17H7v-7h2v7zm4 0h-2V7h2v10zm4 0h-2v-4h2v4z\"/>\n",
              "    </g>\n",
              "</svg>\n",
              "  </button>\n",
              "\n",
              "<style>\n",
              "  .colab-df-quickchart {\n",
              "      --bg-color: #E8F0FE;\n",
              "      --fill-color: #1967D2;\n",
              "      --hover-bg-color: #E2EBFA;\n",
              "      --hover-fill-color: #174EA6;\n",
              "      --disabled-fill-color: #AAA;\n",
              "      --disabled-bg-color: #DDD;\n",
              "  }\n",
              "\n",
              "  [theme=dark] .colab-df-quickchart {\n",
              "      --bg-color: #3B4455;\n",
              "      --fill-color: #D2E3FC;\n",
              "      --hover-bg-color: #434B5C;\n",
              "      --hover-fill-color: #FFFFFF;\n",
              "      --disabled-bg-color: #3B4455;\n",
              "      --disabled-fill-color: #666;\n",
              "  }\n",
              "\n",
              "  .colab-df-quickchart {\n",
              "    background-color: var(--bg-color);\n",
              "    border: none;\n",
              "    border-radius: 50%;\n",
              "    cursor: pointer;\n",
              "    display: none;\n",
              "    fill: var(--fill-color);\n",
              "    height: 32px;\n",
              "    padding: 0;\n",
              "    width: 32px;\n",
              "  }\n",
              "\n",
              "  .colab-df-quickchart:hover {\n",
              "    background-color: var(--hover-bg-color);\n",
              "    box-shadow: 0 1px 2px rgba(60, 64, 67, 0.3), 0 1px 3px 1px rgba(60, 64, 67, 0.15);\n",
              "    fill: var(--button-hover-fill-color);\n",
              "  }\n",
              "\n",
              "  .colab-df-quickchart-complete:disabled,\n",
              "  .colab-df-quickchart-complete:disabled:hover {\n",
              "    background-color: var(--disabled-bg-color);\n",
              "    fill: var(--disabled-fill-color);\n",
              "    box-shadow: none;\n",
              "  }\n",
              "\n",
              "  .colab-df-spinner {\n",
              "    border: 2px solid var(--fill-color);\n",
              "    border-color: transparent;\n",
              "    border-bottom-color: var(--fill-color);\n",
              "    animation:\n",
              "      spin 1s steps(1) infinite;\n",
              "  }\n",
              "\n",
              "  @keyframes spin {\n",
              "    0% {\n",
              "      border-color: transparent;\n",
              "      border-bottom-color: var(--fill-color);\n",
              "      border-left-color: var(--fill-color);\n",
              "    }\n",
              "    20% {\n",
              "      border-color: transparent;\n",
              "      border-left-color: var(--fill-color);\n",
              "      border-top-color: var(--fill-color);\n",
              "    }\n",
              "    30% {\n",
              "      border-color: transparent;\n",
              "      border-left-color: var(--fill-color);\n",
              "      border-top-color: var(--fill-color);\n",
              "      border-right-color: var(--fill-color);\n",
              "    }\n",
              "    40% {\n",
              "      border-color: transparent;\n",
              "      border-right-color: var(--fill-color);\n",
              "      border-top-color: var(--fill-color);\n",
              "    }\n",
              "    60% {\n",
              "      border-color: transparent;\n",
              "      border-right-color: var(--fill-color);\n",
              "    }\n",
              "    80% {\n",
              "      border-color: transparent;\n",
              "      border-right-color: var(--fill-color);\n",
              "      border-bottom-color: var(--fill-color);\n",
              "    }\n",
              "    90% {\n",
              "      border-color: transparent;\n",
              "      border-bottom-color: var(--fill-color);\n",
              "    }\n",
              "  }\n",
              "</style>\n",
              "\n",
              "  <script>\n",
              "    async function quickchart(key) {\n",
              "      const quickchartButtonEl =\n",
              "        document.querySelector('#' + key + ' button');\n",
              "      quickchartButtonEl.disabled = true;  // To prevent multiple clicks.\n",
              "      quickchartButtonEl.classList.add('colab-df-spinner');\n",
              "      try {\n",
              "        const charts = await google.colab.kernel.invokeFunction(\n",
              "            'suggestCharts', [key], {});\n",
              "      } catch (error) {\n",
              "        console.error('Error during call to suggestCharts:', error);\n",
              "      }\n",
              "      quickchartButtonEl.classList.remove('colab-df-spinner');\n",
              "      quickchartButtonEl.classList.add('colab-df-quickchart-complete');\n",
              "    }\n",
              "    (() => {\n",
              "      let quickchartButtonEl =\n",
              "        document.querySelector('#df-c5abb95b-789c-4146-8e4d-9a159bfdb73a button');\n",
              "      quickchartButtonEl.style.display =\n",
              "        google.colab.kernel.accessAllowed ? 'block' : 'none';\n",
              "    })();\n",
              "  </script>\n",
              "</div>\n",
              "\n",
              "    </div>\n",
              "  </div>\n"
            ],
            "application/vnd.google.colaboratory.intrinsic+json": {
              "type": "dataframe",
              "variable_name": "npr",
              "summary": "{\n  \"name\": \"npr\",\n  \"rows\": 11992,\n  \"fields\": [\n    {\n      \"column\": \"Article\",\n      \"properties\": {\n        \"dtype\": \"string\",\n        \"num_unique_values\": 11991,\n        \"samples\": [\n          \"Last week, physicists at the National Institute for Standards and Technology reported they\\u2019d cooled an object to a million times colder than room temperature. It was a record for the   science of  . In this field, researchers inch ever closer to  \\u2014   but never reach  \\u2014   the state of absolute zero temperature. It\\u2019s a science that has some very cool (pun very much intended) applications including   gravity wave detectors for \\u201dhearing\\u201d distant black hole mergers. But moving beyond these applications, why is   so hard to begin with? Why can\\u2019t we just get to absolute zero degrees and be done with it? The answer to this question drops us straight into one of the quantum universe\\u2019s most startling features: The world never rests. To see what this means, let\\u2019s remind ourselves about the meaning of \\u201dtemperature.\\u201d Without getting too technical (we should really be talking about entropy here) temperature for physicists is a measure of random motion. Imagine the gas molecules in the air around you are little cue balls of matter. The higher the air temperature, the faster those little orbs of matter will be ricocheting around the room, bouncing off the walls and each other. So cooling the air means finding some means to slow the molecules down. From this perspective, there there\\u2019s no conceptual reason why you shouldn\\u2019t be able bring them entirely to a halt. Do that, and the air would have a temperature of \\u201dabsolute zero\\u201d degrees (as measured in units called Kelvins. In Fahrenheit, this would be  . 67 degrees). But, it turns out, nature doesn\\u2019t work that way. The universe doesn\\u2019t \\u201ddo\\u201d zero temperatures because it doesn\\u2019t do zero motion. Thinking about matter and motion in the way we described above is what we physicists call \\u201da classical picture.\\u201d In classical physics, matter is made of tiny particles of \\u201dstuff\\u201d and motion is just the change in the particles position with time. It all makes intuitive sense based on our experience of the world at the scale of baseballs and boulders. But a hundred years or so ago, physicists began probing the world on the scale of atoms. What they found was the classical, intuitive picture didn\\u2019t work well for explaining their experiments. In response, they developed a new kind of physics. In an astonishing burst of creativity, they kept key principles from the classical world  \\u2014   like the conservation of energy  \\u2014   but added new rules. One of these was the Uncertainty Principle, which essentially told us that reality is fuzzy at its root level. To be exact, certain pairs of properties  \\u2014   like motion and position  \\u2014   can never be known exactly. The Uncertainty Principle isn\\u2019t saying there\\u2019s something wrong with our instruments. Instead, it tells us there\\u2019s something wrong with our classical intuitions. In particular, when it comes to motion, it tells us it\\u2019s impossible to know the position and the motion of a particle exactly. The more you lock in the position of a particle, the wider the range of velocities the particle can have. So what does this have to do with temperature? Absolute zero should mean bringing particles to a halt. But that would imply you knew exactly where they were. You had them perfectly \\u201dlocalized.\\u201d If that\\u2019s the case, then the Uncertainty Principle demands there must be some uncertainty in their motion. They can\\u2019t be perfectly known to be perfectly at rest. The deeper meaning of this this quantum logic is that the universe can never be at rest. There is a \\u201dfloor\\u201d to how much things can be slowed down (or cooled). It\\u2019s impossible to go below that floor (though scientists do get ever more clever in skirting its edges). The implications of this can get pretty strange. Imagine we put a particle, like an electron, in a box. Now we ask: What\\u2019s the lowest energy state of the electron + box system? In classical physics, it would just be the electron sitting there unmoving  \\u2014   i. e. zero motion, hence zero energy. But quantum physics won\\u2019t allow such a thing as zero energy (because of the Uncertainty Principle). Instead, the system has   \\u201dground state\\u201d energy with the electron bouncing back and forth between the box walls. That\\u2019s as low as you can go. The electron can\\u2019t be stopped. Take this idea further, and you get to the delicious idea of vacuum energy. There the Uncertainty Principle demands that there can be no pure and perfect vacuum with a state of zero energy. Thus, in quantum physics, the vacuum is not empty but is a seething froth of \\u201dvirtual particles\\u201d that are never manifested and yet have a verifiable effect on the particles we do see. No vacuum. No zero energy. No zero temperature. No common sense expectation about the world\\u2019s behavior. The discovery that the quantum world was the foundation for our   classical experience was a triumph of science. It was a validation of science\\u2019s ability to take us beyond our limited senses and limited concepts. There is no way to \\u201dpicture\\u201d this quantum world with our classical imaginations. Instead, what we found was a new frontier. At its root, quantum physics showed us that this world we inhabit is dynamic to its very core: buzzing, roaring, shuddering and trembling like an infinite Jackson Pollack painting. It is not just richer than we imagined, but stranger and more wonderful than we can imagine. That view, hidden in the impossibility of absolute zero temperature, is a gift that science has given us all. Now what are we to make of it? Adam Frank is a   of the 13. 7 blog, an astrophysics professor at the University of Rochester, a book author and a   \\u201devangelist of science.\\u201d You can keep up with more of what Adam is thinking on Facebook and Twitter: @adamfrank4\",\n          \"President Trump hosted Russian Foreign Minister Sergey Lavrov at the White House on Wednesday, one day after firing the man whose agency is investigating Russia\\u2019s meddling in the 2016 election that brought Trump to power. Trump fired   FBI Director James Comey, who told Congress earlier this year that his agency has been investigating Russia\\u2019s actions  \\u2014   and possible ties to anyone associated with the Trump campaign  \\u2014   since July. As NPR\\u2019s Domenico Montanaro reports, the firing of Comey with more than six years left on his term in office has prompted a flurry of questions about the president\\u2019s motives  \\u2014   and about what\\u2019s next. Lavrov\\u2019s meeting with the president was scheduled for 10:30 a. m. ET, and it was declared closed to the press. Russian agencies tweeted photos from the Oval Office showing that in addition to Lavrov, Trump shook hands with Russia\\u2019s ambassador to America, Sergey Kislyak  \\u2014   a key figure in the investigation into Trump\\u2019s ousted national security adviser, Michael Flynn. After the Lavrov session had concluded, members of the U. S. media were allowed into the Oval Office, where they found the president sitting with Henry Kissinger, who served as President Richard Nixon\\u2019s secretary of state. The meeting hadn\\u2019t been listed on the president\\u2019s official schedule. Trump said he and Kissinger had met to talk \\u201dabout Russia and various other matters,\\u201d according to the pool report. To a question about Comey, Trump reportedly replied, \\u201dHe wasn\\u2019t doing a good job. Very simply. He was not doing a good job.\\u201d The president also said the issue had not affected his meeting with Lavrov. Lavrov arrived in Washington on Tuesday. He met with Secretary of State Rex Tillerson at the White House early Wednesday, ahead of his visit to the Oval Office. Tillerson and Lavrov made a brief appearance Wednesday morning for a   and as Tillerson began to lead his guest back behind closed doors, Lavrov responded to a question about Comey\\u2019s firing. When a reporter asked whether the dismissal has \\u201dcast a shadow\\u201d over their talks, Lavrov stopped and seemed to look genuinely quizzical when he responded, \\u201dWas he fired?\\u201d  \\u2014   but then adopted a deadpan tone as he told the reporter, \\u201dYou are kidding, you are kidding.\\u201d With a theatrical twitch of his head, the Russian diplomat then followed his American counterpart away from the media. The exchange was not included in the State Department\\u2019s brief video snippet from the   that it posted to Twitter. Tillerson\\u2019s office said his talks with Lavrov would focus on \\u201dUkraine, Syria, and bilateral issues.\\u201d But the Russians\\u2019 visit to the White House also came as the Kremlin made its first public comments on Comey\\u2019s removal. When Russian presidential spokesman Dmitry Peskov was asked how the firing might affect U. S.  relations, Peskov replied, \\u201dWe hope that it will not affect them at all. That\\u2019s the United States\\u2019 internal affair. That\\u2019s the U. S. president\\u2019s independent decision, which has nothing to do and should have nothing to do with Russia.\\u201d Comey\\u2019s dismissal has sparked new calls for an independent probe into Russia\\u2019s attempts to influence last year\\u2019s U. S. presidential election  \\u2014   despite the Trump administration\\u2019s assertion that Comey was removed over his handling of the investigation into Clinton\\u2019s private email server. \\u201dThis is nothing less than Nixonian,\\u201d said Patrick Leahy,  . a longtime member of the Senate Judiciary Committee. Announcing Comey\\u2019s abrupt firing Tuesday afternoon, White House press secretary Sean Spicer said the president \\u201dacted based on the clear recommendations of both Deputy Attorney General Rod Rosenstein and Attorney General Jeff Sessions.\\u201d\",\n          \"Republican presidential nominee Donald Trump has been calling for a criminal investigation of his political opponent Hillary Clinton on the campaign trail this year. Trump is angry the FBI probe of Clinton\\u2019s email server ended with no charges. Now, he says, an independent outsider needs to look at the Clinton Foundation. \\u201dThe Justice Department is required to appoint an independent special prosecutor because it has proven itself to be really, sadly, a political arm of the White House,\\u201d Trump said in Akron, Ohio, last week. Trump has offered no evidence to back up his claims that the Justice Department has been corrupted. But his call for a special prosecutor sounds familiar to people who study the intersection of law and politics. \\u201dIf you look at the chronology, pretty much the political party that does not control the White House tends to want special prosecutors and independent counsel laws,\\u201d said Ken Gormley, president of Duquesne University in Pittsburgh and the author of two books on special prosecutors. \\u201dAs soon as the party is in the White House, they don\\u2019t want it anymore.\\u201d In modern times, the idea first cropped up during the 1970s. President Richard Nixon notoriously fired a special prosecutor who was getting close to the tapes that would bring down his administration. Five months after what became known as the Saturday Night Massacre, Congress started work on an independent counsel law. The idea was to insulate sensitive criminal investigations from meddling by the White House. The law would stand for about 20 years. It didn\\u2019t produce many criminal convictions, but it did stir up a lot of trouble for presidents  \\u2014   and the people close to them. In 1996, Hillary Clinton became the first sitting first lady to testify before a grand jury. This one was investigating the Whitewater affair, an investigation that began with a real estate investment and morphed into scrutiny of President Bill Clinton\\u2019s sexual improprieties. Hillary Clinton was never charged with wrongdoing, but the investigation left a mark. Years later, Gormley interviewed Bill Clinton about it. \\u201dHe made clear that his decision to allow and endorse the appointment of an independent counsel in the Whitewater matter was one of the biggest mistakes of his presidency,\\u201d Gormley said. \\u201dIn fact, the words he used at one point is that it was like Wile E. Coyote and the Road Runner. And almost from the moment he was in the White House, there were political opponents using special prosecutors to bring him down, and they were off to the races.\\u201d By 1999, when Congress considered whether to renew the statute, opposition came from nearly all sides. Even Whitewater independent counsel Ken Starr told Congress the law had become a political weapon. \\u201dThe statutory mechanism intended to enhance confidence in law enforcement had the effect of weakening it,\\u201d Starr said, in arguing the law should not be reauthorized. \\u201dJurisdiction and authority over these sensitive matters ought to be returned to the Justice Department. And who will oversee them? The Congress, the press, the public.\\u201d That\\u2019s exactly what happened. The law expired. But the Justice Department can still use special prosecutors. They\\u2019re career lawyers, protected from political leaders at Justice by a firewall. During the George W. Bush years, special prosecutor Patrick Fitzgerald charged and convicted a top aide to the vice president. Justice Department leaders went on to deploy special prosecutors to investigate the firings of U. S. attorneys and the destruction of videotapes that showed torture of detainees. But authorities have relied on those prosecutors only sparingly, a position adopted by many, including Gormley. \\u201dI think I\\u2019ve come to the conclusion that we are better off when we have less of these investigations rather than more,\\u201d he said. \\u201dThey should be reserved for very special and extreme occasions.\\u201d Otherwise, Gormley argued, they could distract from what\\u2019s really important. \\u201dAs we as a country were just obsessed with the issue of Whitewater, Paula Jones, Monica Lewinsky and all of these distractions during the 1990s, there were people inside and outside the country literally plotting our attack,\\u201d he said. One of them, Gormley said, was Osama bin Laden.\"\n        ],\n        \"semantic_type\": \"\",\n        \"description\": \"\"\n      }\n    }\n  ]\n}"
            }
          },
          "metadata": {},
          "execution_count": 48
        }
      ]
    },
    {
      "cell_type": "code",
      "source": [
        "topic_results.argmax(axis=1)"
      ],
      "metadata": {
        "colab": {
          "base_uri": "https://localhost:8080/"
        },
        "id": "-U3Q17-FJMJN",
        "outputId": "3146db12-b537-4d65-a45b-77575ff1e94c"
      },
      "execution_count": null,
      "outputs": [
        {
          "output_type": "execute_result",
          "data": {
            "text/plain": [
              "array([1, 1, 1, ..., 3, 4, 2])"
            ]
          },
          "metadata": {},
          "execution_count": 49
        }
      ]
    },
    {
      "cell_type": "code",
      "source": [
        "npr['Topic']=topic_results.argmax(axis=1)"
      ],
      "metadata": {
        "id": "Ofv6I1XYJ-od"
      },
      "execution_count": null,
      "outputs": []
    },
    {
      "cell_type": "code",
      "source": [
        "npr"
      ],
      "metadata": {
        "colab": {
          "base_uri": "https://localhost:8080/",
          "height": 423
        },
        "id": "LzpcsCgoKNZS",
        "outputId": "99bc4ea2-a3f9-4d79-cc64-09c37d06023d"
      },
      "execution_count": null,
      "outputs": [
        {
          "output_type": "execute_result",
          "data": {
            "text/plain": [
              "                                                 Article  Topic\n",
              "0      In the Washington of 2016, even when the polic...      1\n",
              "1        Donald Trump has used Twitter  —   his prefe...      1\n",
              "2        Donald Trump is unabashedly praising Russian...      1\n",
              "3      Updated at 2:50 p. m. ET, Russian President Vl...      1\n",
              "4      From photography, illustration and video, to d...      2\n",
              "...                                                  ...    ...\n",
              "11987  The number of law enforcement officers shot an...      1\n",
              "11988    Trump is busy these days with victory tours,...      4\n",
              "11989  It’s always interesting for the Goats and Soda...      3\n",
              "11990  The election of Donald Trump was a surprise to...      4\n",
              "11991  Voters in the English city of Sunderland did s...      2\n",
              "\n",
              "[11992 rows x 2 columns]"
            ],
            "text/html": [
              "\n",
              "  <div id=\"df-8841b91c-b48f-4cad-bd54-bfc063f85686\" class=\"colab-df-container\">\n",
              "    <div>\n",
              "<style scoped>\n",
              "    .dataframe tbody tr th:only-of-type {\n",
              "        vertical-align: middle;\n",
              "    }\n",
              "\n",
              "    .dataframe tbody tr th {\n",
              "        vertical-align: top;\n",
              "    }\n",
              "\n",
              "    .dataframe thead th {\n",
              "        text-align: right;\n",
              "    }\n",
              "</style>\n",
              "<table border=\"1\" class=\"dataframe\">\n",
              "  <thead>\n",
              "    <tr style=\"text-align: right;\">\n",
              "      <th></th>\n",
              "      <th>Article</th>\n",
              "      <th>Topic</th>\n",
              "    </tr>\n",
              "  </thead>\n",
              "  <tbody>\n",
              "    <tr>\n",
              "      <th>0</th>\n",
              "      <td>In the Washington of 2016, even when the polic...</td>\n",
              "      <td>1</td>\n",
              "    </tr>\n",
              "    <tr>\n",
              "      <th>1</th>\n",
              "      <td>Donald Trump has used Twitter  —   his prefe...</td>\n",
              "      <td>1</td>\n",
              "    </tr>\n",
              "    <tr>\n",
              "      <th>2</th>\n",
              "      <td>Donald Trump is unabashedly praising Russian...</td>\n",
              "      <td>1</td>\n",
              "    </tr>\n",
              "    <tr>\n",
              "      <th>3</th>\n",
              "      <td>Updated at 2:50 p. m. ET, Russian President Vl...</td>\n",
              "      <td>1</td>\n",
              "    </tr>\n",
              "    <tr>\n",
              "      <th>4</th>\n",
              "      <td>From photography, illustration and video, to d...</td>\n",
              "      <td>2</td>\n",
              "    </tr>\n",
              "    <tr>\n",
              "      <th>...</th>\n",
              "      <td>...</td>\n",
              "      <td>...</td>\n",
              "    </tr>\n",
              "    <tr>\n",
              "      <th>11987</th>\n",
              "      <td>The number of law enforcement officers shot an...</td>\n",
              "      <td>1</td>\n",
              "    </tr>\n",
              "    <tr>\n",
              "      <th>11988</th>\n",
              "      <td>Trump is busy these days with victory tours,...</td>\n",
              "      <td>4</td>\n",
              "    </tr>\n",
              "    <tr>\n",
              "      <th>11989</th>\n",
              "      <td>It’s always interesting for the Goats and Soda...</td>\n",
              "      <td>3</td>\n",
              "    </tr>\n",
              "    <tr>\n",
              "      <th>11990</th>\n",
              "      <td>The election of Donald Trump was a surprise to...</td>\n",
              "      <td>4</td>\n",
              "    </tr>\n",
              "    <tr>\n",
              "      <th>11991</th>\n",
              "      <td>Voters in the English city of Sunderland did s...</td>\n",
              "      <td>2</td>\n",
              "    </tr>\n",
              "  </tbody>\n",
              "</table>\n",
              "<p>11992 rows × 2 columns</p>\n",
              "</div>\n",
              "    <div class=\"colab-df-buttons\">\n",
              "\n",
              "  <div class=\"colab-df-container\">\n",
              "    <button class=\"colab-df-convert\" onclick=\"convertToInteractive('df-8841b91c-b48f-4cad-bd54-bfc063f85686')\"\n",
              "            title=\"Convert this dataframe to an interactive table.\"\n",
              "            style=\"display:none;\">\n",
              "\n",
              "  <svg xmlns=\"http://www.w3.org/2000/svg\" height=\"24px\" viewBox=\"0 -960 960 960\">\n",
              "    <path d=\"M120-120v-720h720v720H120Zm60-500h600v-160H180v160Zm220 220h160v-160H400v160Zm0 220h160v-160H400v160ZM180-400h160v-160H180v160Zm440 0h160v-160H620v160ZM180-180h160v-160H180v160Zm440 0h160v-160H620v160Z\"/>\n",
              "  </svg>\n",
              "    </button>\n",
              "\n",
              "  <style>\n",
              "    .colab-df-container {\n",
              "      display:flex;\n",
              "      gap: 12px;\n",
              "    }\n",
              "\n",
              "    .colab-df-convert {\n",
              "      background-color: #E8F0FE;\n",
              "      border: none;\n",
              "      border-radius: 50%;\n",
              "      cursor: pointer;\n",
              "      display: none;\n",
              "      fill: #1967D2;\n",
              "      height: 32px;\n",
              "      padding: 0 0 0 0;\n",
              "      width: 32px;\n",
              "    }\n",
              "\n",
              "    .colab-df-convert:hover {\n",
              "      background-color: #E2EBFA;\n",
              "      box-shadow: 0px 1px 2px rgba(60, 64, 67, 0.3), 0px 1px 3px 1px rgba(60, 64, 67, 0.15);\n",
              "      fill: #174EA6;\n",
              "    }\n",
              "\n",
              "    .colab-df-buttons div {\n",
              "      margin-bottom: 4px;\n",
              "    }\n",
              "\n",
              "    [theme=dark] .colab-df-convert {\n",
              "      background-color: #3B4455;\n",
              "      fill: #D2E3FC;\n",
              "    }\n",
              "\n",
              "    [theme=dark] .colab-df-convert:hover {\n",
              "      background-color: #434B5C;\n",
              "      box-shadow: 0px 1px 3px 1px rgba(0, 0, 0, 0.15);\n",
              "      filter: drop-shadow(0px 1px 2px rgba(0, 0, 0, 0.3));\n",
              "      fill: #FFFFFF;\n",
              "    }\n",
              "  </style>\n",
              "\n",
              "    <script>\n",
              "      const buttonEl =\n",
              "        document.querySelector('#df-8841b91c-b48f-4cad-bd54-bfc063f85686 button.colab-df-convert');\n",
              "      buttonEl.style.display =\n",
              "        google.colab.kernel.accessAllowed ? 'block' : 'none';\n",
              "\n",
              "      async function convertToInteractive(key) {\n",
              "        const element = document.querySelector('#df-8841b91c-b48f-4cad-bd54-bfc063f85686');\n",
              "        const dataTable =\n",
              "          await google.colab.kernel.invokeFunction('convertToInteractive',\n",
              "                                                    [key], {});\n",
              "        if (!dataTable) return;\n",
              "\n",
              "        const docLinkHtml = 'Like what you see? Visit the ' +\n",
              "          '<a target=\"_blank\" href=https://colab.research.google.com/notebooks/data_table.ipynb>data table notebook</a>'\n",
              "          + ' to learn more about interactive tables.';\n",
              "        element.innerHTML = '';\n",
              "        dataTable['output_type'] = 'display_data';\n",
              "        await google.colab.output.renderOutput(dataTable, element);\n",
              "        const docLink = document.createElement('div');\n",
              "        docLink.innerHTML = docLinkHtml;\n",
              "        element.appendChild(docLink);\n",
              "      }\n",
              "    </script>\n",
              "  </div>\n",
              "\n",
              "\n",
              "<div id=\"df-f6297e05-f479-42df-b92f-b35d7a3a8ec6\">\n",
              "  <button class=\"colab-df-quickchart\" onclick=\"quickchart('df-f6297e05-f479-42df-b92f-b35d7a3a8ec6')\"\n",
              "            title=\"Suggest charts\"\n",
              "            style=\"display:none;\">\n",
              "\n",
              "<svg xmlns=\"http://www.w3.org/2000/svg\" height=\"24px\"viewBox=\"0 0 24 24\"\n",
              "     width=\"24px\">\n",
              "    <g>\n",
              "        <path d=\"M19 3H5c-1.1 0-2 .9-2 2v14c0 1.1.9 2 2 2h14c1.1 0 2-.9 2-2V5c0-1.1-.9-2-2-2zM9 17H7v-7h2v7zm4 0h-2V7h2v10zm4 0h-2v-4h2v4z\"/>\n",
              "    </g>\n",
              "</svg>\n",
              "  </button>\n",
              "\n",
              "<style>\n",
              "  .colab-df-quickchart {\n",
              "      --bg-color: #E8F0FE;\n",
              "      --fill-color: #1967D2;\n",
              "      --hover-bg-color: #E2EBFA;\n",
              "      --hover-fill-color: #174EA6;\n",
              "      --disabled-fill-color: #AAA;\n",
              "      --disabled-bg-color: #DDD;\n",
              "  }\n",
              "\n",
              "  [theme=dark] .colab-df-quickchart {\n",
              "      --bg-color: #3B4455;\n",
              "      --fill-color: #D2E3FC;\n",
              "      --hover-bg-color: #434B5C;\n",
              "      --hover-fill-color: #FFFFFF;\n",
              "      --disabled-bg-color: #3B4455;\n",
              "      --disabled-fill-color: #666;\n",
              "  }\n",
              "\n",
              "  .colab-df-quickchart {\n",
              "    background-color: var(--bg-color);\n",
              "    border: none;\n",
              "    border-radius: 50%;\n",
              "    cursor: pointer;\n",
              "    display: none;\n",
              "    fill: var(--fill-color);\n",
              "    height: 32px;\n",
              "    padding: 0;\n",
              "    width: 32px;\n",
              "  }\n",
              "\n",
              "  .colab-df-quickchart:hover {\n",
              "    background-color: var(--hover-bg-color);\n",
              "    box-shadow: 0 1px 2px rgba(60, 64, 67, 0.3), 0 1px 3px 1px rgba(60, 64, 67, 0.15);\n",
              "    fill: var(--button-hover-fill-color);\n",
              "  }\n",
              "\n",
              "  .colab-df-quickchart-complete:disabled,\n",
              "  .colab-df-quickchart-complete:disabled:hover {\n",
              "    background-color: var(--disabled-bg-color);\n",
              "    fill: var(--disabled-fill-color);\n",
              "    box-shadow: none;\n",
              "  }\n",
              "\n",
              "  .colab-df-spinner {\n",
              "    border: 2px solid var(--fill-color);\n",
              "    border-color: transparent;\n",
              "    border-bottom-color: var(--fill-color);\n",
              "    animation:\n",
              "      spin 1s steps(1) infinite;\n",
              "  }\n",
              "\n",
              "  @keyframes spin {\n",
              "    0% {\n",
              "      border-color: transparent;\n",
              "      border-bottom-color: var(--fill-color);\n",
              "      border-left-color: var(--fill-color);\n",
              "    }\n",
              "    20% {\n",
              "      border-color: transparent;\n",
              "      border-left-color: var(--fill-color);\n",
              "      border-top-color: var(--fill-color);\n",
              "    }\n",
              "    30% {\n",
              "      border-color: transparent;\n",
              "      border-left-color: var(--fill-color);\n",
              "      border-top-color: var(--fill-color);\n",
              "      border-right-color: var(--fill-color);\n",
              "    }\n",
              "    40% {\n",
              "      border-color: transparent;\n",
              "      border-right-color: var(--fill-color);\n",
              "      border-top-color: var(--fill-color);\n",
              "    }\n",
              "    60% {\n",
              "      border-color: transparent;\n",
              "      border-right-color: var(--fill-color);\n",
              "    }\n",
              "    80% {\n",
              "      border-color: transparent;\n",
              "      border-right-color: var(--fill-color);\n",
              "      border-bottom-color: var(--fill-color);\n",
              "    }\n",
              "    90% {\n",
              "      border-color: transparent;\n",
              "      border-bottom-color: var(--fill-color);\n",
              "    }\n",
              "  }\n",
              "</style>\n",
              "\n",
              "  <script>\n",
              "    async function quickchart(key) {\n",
              "      const quickchartButtonEl =\n",
              "        document.querySelector('#' + key + ' button');\n",
              "      quickchartButtonEl.disabled = true;  // To prevent multiple clicks.\n",
              "      quickchartButtonEl.classList.add('colab-df-spinner');\n",
              "      try {\n",
              "        const charts = await google.colab.kernel.invokeFunction(\n",
              "            'suggestCharts', [key], {});\n",
              "      } catch (error) {\n",
              "        console.error('Error during call to suggestCharts:', error);\n",
              "      }\n",
              "      quickchartButtonEl.classList.remove('colab-df-spinner');\n",
              "      quickchartButtonEl.classList.add('colab-df-quickchart-complete');\n",
              "    }\n",
              "    (() => {\n",
              "      let quickchartButtonEl =\n",
              "        document.querySelector('#df-f6297e05-f479-42df-b92f-b35d7a3a8ec6 button');\n",
              "      quickchartButtonEl.style.display =\n",
              "        google.colab.kernel.accessAllowed ? 'block' : 'none';\n",
              "    })();\n",
              "  </script>\n",
              "</div>\n",
              "\n",
              "  <div id=\"id_91791149-3dec-4206-8db2-da257568d574\">\n",
              "    <style>\n",
              "      .colab-df-generate {\n",
              "        background-color: #E8F0FE;\n",
              "        border: none;\n",
              "        border-radius: 50%;\n",
              "        cursor: pointer;\n",
              "        display: none;\n",
              "        fill: #1967D2;\n",
              "        height: 32px;\n",
              "        padding: 0 0 0 0;\n",
              "        width: 32px;\n",
              "      }\n",
              "\n",
              "      .colab-df-generate:hover {\n",
              "        background-color: #E2EBFA;\n",
              "        box-shadow: 0px 1px 2px rgba(60, 64, 67, 0.3), 0px 1px 3px 1px rgba(60, 64, 67, 0.15);\n",
              "        fill: #174EA6;\n",
              "      }\n",
              "\n",
              "      [theme=dark] .colab-df-generate {\n",
              "        background-color: #3B4455;\n",
              "        fill: #D2E3FC;\n",
              "      }\n",
              "\n",
              "      [theme=dark] .colab-df-generate:hover {\n",
              "        background-color: #434B5C;\n",
              "        box-shadow: 0px 1px 3px 1px rgba(0, 0, 0, 0.15);\n",
              "        filter: drop-shadow(0px 1px 2px rgba(0, 0, 0, 0.3));\n",
              "        fill: #FFFFFF;\n",
              "      }\n",
              "    </style>\n",
              "    <button class=\"colab-df-generate\" onclick=\"generateWithVariable('npr')\"\n",
              "            title=\"Generate code using this dataframe.\"\n",
              "            style=\"display:none;\">\n",
              "\n",
              "  <svg xmlns=\"http://www.w3.org/2000/svg\" height=\"24px\"viewBox=\"0 0 24 24\"\n",
              "       width=\"24px\">\n",
              "    <path d=\"M7,19H8.4L18.45,9,17,7.55,7,17.6ZM5,21V16.75L18.45,3.32a2,2,0,0,1,2.83,0l1.4,1.43a1.91,1.91,0,0,1,.58,1.4,1.91,1.91,0,0,1-.58,1.4L9.25,21ZM18.45,9,17,7.55Zm-12,3A5.31,5.31,0,0,0,4.9,8.1,5.31,5.31,0,0,0,1,6.5,5.31,5.31,0,0,0,4.9,4.9,5.31,5.31,0,0,0,6.5,1,5.31,5.31,0,0,0,8.1,4.9,5.31,5.31,0,0,0,12,6.5,5.46,5.46,0,0,0,6.5,12Z\"/>\n",
              "  </svg>\n",
              "    </button>\n",
              "    <script>\n",
              "      (() => {\n",
              "      const buttonEl =\n",
              "        document.querySelector('#id_91791149-3dec-4206-8db2-da257568d574 button.colab-df-generate');\n",
              "      buttonEl.style.display =\n",
              "        google.colab.kernel.accessAllowed ? 'block' : 'none';\n",
              "\n",
              "      buttonEl.onclick = () => {\n",
              "        google.colab.notebook.generateWithVariable('npr');\n",
              "      }\n",
              "      })();\n",
              "    </script>\n",
              "  </div>\n",
              "\n",
              "    </div>\n",
              "  </div>\n"
            ],
            "application/vnd.google.colaboratory.intrinsic+json": {
              "type": "dataframe",
              "variable_name": "npr",
              "summary": "{\n  \"name\": \"npr\",\n  \"rows\": 11992,\n  \"fields\": [\n    {\n      \"column\": \"Article\",\n      \"properties\": {\n        \"dtype\": \"string\",\n        \"num_unique_values\": 11991,\n        \"samples\": [\n          \"Last week, physicists at the National Institute for Standards and Technology reported they\\u2019d cooled an object to a million times colder than room temperature. It was a record for the   science of  . In this field, researchers inch ever closer to  \\u2014   but never reach  \\u2014   the state of absolute zero temperature. It\\u2019s a science that has some very cool (pun very much intended) applications including   gravity wave detectors for \\u201dhearing\\u201d distant black hole mergers. But moving beyond these applications, why is   so hard to begin with? Why can\\u2019t we just get to absolute zero degrees and be done with it? The answer to this question drops us straight into one of the quantum universe\\u2019s most startling features: The world never rests. To see what this means, let\\u2019s remind ourselves about the meaning of \\u201dtemperature.\\u201d Without getting too technical (we should really be talking about entropy here) temperature for physicists is a measure of random motion. Imagine the gas molecules in the air around you are little cue balls of matter. The higher the air temperature, the faster those little orbs of matter will be ricocheting around the room, bouncing off the walls and each other. So cooling the air means finding some means to slow the molecules down. From this perspective, there there\\u2019s no conceptual reason why you shouldn\\u2019t be able bring them entirely to a halt. Do that, and the air would have a temperature of \\u201dabsolute zero\\u201d degrees (as measured in units called Kelvins. In Fahrenheit, this would be  . 67 degrees). But, it turns out, nature doesn\\u2019t work that way. The universe doesn\\u2019t \\u201ddo\\u201d zero temperatures because it doesn\\u2019t do zero motion. Thinking about matter and motion in the way we described above is what we physicists call \\u201da classical picture.\\u201d In classical physics, matter is made of tiny particles of \\u201dstuff\\u201d and motion is just the change in the particles position with time. It all makes intuitive sense based on our experience of the world at the scale of baseballs and boulders. But a hundred years or so ago, physicists began probing the world on the scale of atoms. What they found was the classical, intuitive picture didn\\u2019t work well for explaining their experiments. In response, they developed a new kind of physics. In an astonishing burst of creativity, they kept key principles from the classical world  \\u2014   like the conservation of energy  \\u2014   but added new rules. One of these was the Uncertainty Principle, which essentially told us that reality is fuzzy at its root level. To be exact, certain pairs of properties  \\u2014   like motion and position  \\u2014   can never be known exactly. The Uncertainty Principle isn\\u2019t saying there\\u2019s something wrong with our instruments. Instead, it tells us there\\u2019s something wrong with our classical intuitions. In particular, when it comes to motion, it tells us it\\u2019s impossible to know the position and the motion of a particle exactly. The more you lock in the position of a particle, the wider the range of velocities the particle can have. So what does this have to do with temperature? Absolute zero should mean bringing particles to a halt. But that would imply you knew exactly where they were. You had them perfectly \\u201dlocalized.\\u201d If that\\u2019s the case, then the Uncertainty Principle demands there must be some uncertainty in their motion. They can\\u2019t be perfectly known to be perfectly at rest. The deeper meaning of this this quantum logic is that the universe can never be at rest. There is a \\u201dfloor\\u201d to how much things can be slowed down (or cooled). It\\u2019s impossible to go below that floor (though scientists do get ever more clever in skirting its edges). The implications of this can get pretty strange. Imagine we put a particle, like an electron, in a box. Now we ask: What\\u2019s the lowest energy state of the electron + box system? In classical physics, it would just be the electron sitting there unmoving  \\u2014   i. e. zero motion, hence zero energy. But quantum physics won\\u2019t allow such a thing as zero energy (because of the Uncertainty Principle). Instead, the system has   \\u201dground state\\u201d energy with the electron bouncing back and forth between the box walls. That\\u2019s as low as you can go. The electron can\\u2019t be stopped. Take this idea further, and you get to the delicious idea of vacuum energy. There the Uncertainty Principle demands that there can be no pure and perfect vacuum with a state of zero energy. Thus, in quantum physics, the vacuum is not empty but is a seething froth of \\u201dvirtual particles\\u201d that are never manifested and yet have a verifiable effect on the particles we do see. No vacuum. No zero energy. No zero temperature. No common sense expectation about the world\\u2019s behavior. The discovery that the quantum world was the foundation for our   classical experience was a triumph of science. It was a validation of science\\u2019s ability to take us beyond our limited senses and limited concepts. There is no way to \\u201dpicture\\u201d this quantum world with our classical imaginations. Instead, what we found was a new frontier. At its root, quantum physics showed us that this world we inhabit is dynamic to its very core: buzzing, roaring, shuddering and trembling like an infinite Jackson Pollack painting. It is not just richer than we imagined, but stranger and more wonderful than we can imagine. That view, hidden in the impossibility of absolute zero temperature, is a gift that science has given us all. Now what are we to make of it? Adam Frank is a   of the 13. 7 blog, an astrophysics professor at the University of Rochester, a book author and a   \\u201devangelist of science.\\u201d You can keep up with more of what Adam is thinking on Facebook and Twitter: @adamfrank4\",\n          \"President Trump hosted Russian Foreign Minister Sergey Lavrov at the White House on Wednesday, one day after firing the man whose agency is investigating Russia\\u2019s meddling in the 2016 election that brought Trump to power. Trump fired   FBI Director James Comey, who told Congress earlier this year that his agency has been investigating Russia\\u2019s actions  \\u2014   and possible ties to anyone associated with the Trump campaign  \\u2014   since July. As NPR\\u2019s Domenico Montanaro reports, the firing of Comey with more than six years left on his term in office has prompted a flurry of questions about the president\\u2019s motives  \\u2014   and about what\\u2019s next. Lavrov\\u2019s meeting with the president was scheduled for 10:30 a. m. ET, and it was declared closed to the press. Russian agencies tweeted photos from the Oval Office showing that in addition to Lavrov, Trump shook hands with Russia\\u2019s ambassador to America, Sergey Kislyak  \\u2014   a key figure in the investigation into Trump\\u2019s ousted national security adviser, Michael Flynn. After the Lavrov session had concluded, members of the U. S. media were allowed into the Oval Office, where they found the president sitting with Henry Kissinger, who served as President Richard Nixon\\u2019s secretary of state. The meeting hadn\\u2019t been listed on the president\\u2019s official schedule. Trump said he and Kissinger had met to talk \\u201dabout Russia and various other matters,\\u201d according to the pool report. To a question about Comey, Trump reportedly replied, \\u201dHe wasn\\u2019t doing a good job. Very simply. He was not doing a good job.\\u201d The president also said the issue had not affected his meeting with Lavrov. Lavrov arrived in Washington on Tuesday. He met with Secretary of State Rex Tillerson at the White House early Wednesday, ahead of his visit to the Oval Office. Tillerson and Lavrov made a brief appearance Wednesday morning for a   and as Tillerson began to lead his guest back behind closed doors, Lavrov responded to a question about Comey\\u2019s firing. When a reporter asked whether the dismissal has \\u201dcast a shadow\\u201d over their talks, Lavrov stopped and seemed to look genuinely quizzical when he responded, \\u201dWas he fired?\\u201d  \\u2014   but then adopted a deadpan tone as he told the reporter, \\u201dYou are kidding, you are kidding.\\u201d With a theatrical twitch of his head, the Russian diplomat then followed his American counterpart away from the media. The exchange was not included in the State Department\\u2019s brief video snippet from the   that it posted to Twitter. Tillerson\\u2019s office said his talks with Lavrov would focus on \\u201dUkraine, Syria, and bilateral issues.\\u201d But the Russians\\u2019 visit to the White House also came as the Kremlin made its first public comments on Comey\\u2019s removal. When Russian presidential spokesman Dmitry Peskov was asked how the firing might affect U. S.  relations, Peskov replied, \\u201dWe hope that it will not affect them at all. That\\u2019s the United States\\u2019 internal affair. That\\u2019s the U. S. president\\u2019s independent decision, which has nothing to do and should have nothing to do with Russia.\\u201d Comey\\u2019s dismissal has sparked new calls for an independent probe into Russia\\u2019s attempts to influence last year\\u2019s U. S. presidential election  \\u2014   despite the Trump administration\\u2019s assertion that Comey was removed over his handling of the investigation into Clinton\\u2019s private email server. \\u201dThis is nothing less than Nixonian,\\u201d said Patrick Leahy,  . a longtime member of the Senate Judiciary Committee. Announcing Comey\\u2019s abrupt firing Tuesday afternoon, White House press secretary Sean Spicer said the president \\u201dacted based on the clear recommendations of both Deputy Attorney General Rod Rosenstein and Attorney General Jeff Sessions.\\u201d\",\n          \"Republican presidential nominee Donald Trump has been calling for a criminal investigation of his political opponent Hillary Clinton on the campaign trail this year. Trump is angry the FBI probe of Clinton\\u2019s email server ended with no charges. Now, he says, an independent outsider needs to look at the Clinton Foundation. \\u201dThe Justice Department is required to appoint an independent special prosecutor because it has proven itself to be really, sadly, a political arm of the White House,\\u201d Trump said in Akron, Ohio, last week. Trump has offered no evidence to back up his claims that the Justice Department has been corrupted. But his call for a special prosecutor sounds familiar to people who study the intersection of law and politics. \\u201dIf you look at the chronology, pretty much the political party that does not control the White House tends to want special prosecutors and independent counsel laws,\\u201d said Ken Gormley, president of Duquesne University in Pittsburgh and the author of two books on special prosecutors. \\u201dAs soon as the party is in the White House, they don\\u2019t want it anymore.\\u201d In modern times, the idea first cropped up during the 1970s. President Richard Nixon notoriously fired a special prosecutor who was getting close to the tapes that would bring down his administration. Five months after what became known as the Saturday Night Massacre, Congress started work on an independent counsel law. The idea was to insulate sensitive criminal investigations from meddling by the White House. The law would stand for about 20 years. It didn\\u2019t produce many criminal convictions, but it did stir up a lot of trouble for presidents  \\u2014   and the people close to them. In 1996, Hillary Clinton became the first sitting first lady to testify before a grand jury. This one was investigating the Whitewater affair, an investigation that began with a real estate investment and morphed into scrutiny of President Bill Clinton\\u2019s sexual improprieties. Hillary Clinton was never charged with wrongdoing, but the investigation left a mark. Years later, Gormley interviewed Bill Clinton about it. \\u201dHe made clear that his decision to allow and endorse the appointment of an independent counsel in the Whitewater matter was one of the biggest mistakes of his presidency,\\u201d Gormley said. \\u201dIn fact, the words he used at one point is that it was like Wile E. Coyote and the Road Runner. And almost from the moment he was in the White House, there were political opponents using special prosecutors to bring him down, and they were off to the races.\\u201d By 1999, when Congress considered whether to renew the statute, opposition came from nearly all sides. Even Whitewater independent counsel Ken Starr told Congress the law had become a political weapon. \\u201dThe statutory mechanism intended to enhance confidence in law enforcement had the effect of weakening it,\\u201d Starr said, in arguing the law should not be reauthorized. \\u201dJurisdiction and authority over these sensitive matters ought to be returned to the Justice Department. And who will oversee them? The Congress, the press, the public.\\u201d That\\u2019s exactly what happened. The law expired. But the Justice Department can still use special prosecutors. They\\u2019re career lawyers, protected from political leaders at Justice by a firewall. During the George W. Bush years, special prosecutor Patrick Fitzgerald charged and convicted a top aide to the vice president. Justice Department leaders went on to deploy special prosecutors to investigate the firings of U. S. attorneys and the destruction of videotapes that showed torture of detainees. But authorities have relied on those prosecutors only sparingly, a position adopted by many, including Gormley. \\u201dI think I\\u2019ve come to the conclusion that we are better off when we have less of these investigations rather than more,\\u201d he said. \\u201dThey should be reserved for very special and extreme occasions.\\u201d Otherwise, Gormley argued, they could distract from what\\u2019s really important. \\u201dAs we as a country were just obsessed with the issue of Whitewater, Paula Jones, Monica Lewinsky and all of these distractions during the 1990s, there were people inside and outside the country literally plotting our attack,\\u201d he said. One of them, Gormley said, was Osama bin Laden.\"\n        ],\n        \"semantic_type\": \"\",\n        \"description\": \"\"\n      }\n    },\n    {\n      \"column\": \"Topic\",\n      \"properties\": {\n        \"dtype\": \"number\",\n        \"std\": 1,\n        \"min\": 0,\n        \"max\": 5,\n        \"num_unique_values\": 6,\n        \"samples\": [\n          1,\n          2,\n          4\n        ],\n        \"semantic_type\": \"\",\n        \"description\": \"\"\n      }\n    }\n  ]\n}"
            }
          },
          "metadata": {},
          "execution_count": 52
        }
      ]
    },
    {
      "cell_type": "code",
      "source": [],
      "metadata": {
        "id": "xyLAzR2BKUDv"
      },
      "execution_count": null,
      "outputs": []
    }
  ]
}