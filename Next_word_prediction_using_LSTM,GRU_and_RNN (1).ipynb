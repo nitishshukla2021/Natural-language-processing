{
  "nbformat": 4,
  "nbformat_minor": 0,
  "metadata": {
    "colab": {
      "provenance": []
    },
    "kernelspec": {
      "name": "python3",
      "display_name": "Python 3"
    },
    "language_info": {
      "name": "python"
    }
  },
  "cells": [
    {
      "cell_type": "code",
      "source": [
        "import numpy as np\n",
        "import tensorflow as tf\n",
        "from tensorflow.keras.preprocessing.text import Tokenizer\n",
        "from tensorflow.keras.preprocessing.sequence import pad_sequences\n",
        "from tensorflow.keras.models import Sequential\n",
        "from tensorflow.keras.layers import Embedding, SimpleRNN, LSTM, GRU, Dense\n",
        "from tensorflow.keras.utils import to_categorical"
      ],
      "metadata": {
        "id": "ULJs1hv5xn0H"
      },
      "execution_count": 19,
      "outputs": []
    },
    {
      "cell_type": "code",
      "source": [
        "text = \"\"\"\n",
        "In the middle of the night, the wind howled loudly. The trees danced wildly under the moonlight.\n",
        "It was a night to remember, mysterious and full of whispers from the forest.\n",
        "\"\"\""
      ],
      "metadata": {
        "id": "oQdmumRNyNoA"
      },
      "execution_count": 20,
      "outputs": []
    },
    {
      "cell_type": "markdown",
      "source": [
        "tokenization:-"
      ],
      "metadata": {
        "id": "ldfqhDKFyx5H"
      }
    },
    {
      "cell_type": "code",
      "source": [
        "tokenizer = Tokenizer()\n",
        "tokenizer.fit_on_texts([text])\n",
        "total_words = len(tokenizer.word_index) + 1\n"
      ],
      "metadata": {
        "id": "PbyU2YhTy0HS"
      },
      "execution_count": 21,
      "outputs": []
    },
    {
      "cell_type": "markdown",
      "source": [
        "create input sequence:-"
      ],
      "metadata": {
        "id": "u3SctIhvy80x"
      }
    },
    {
      "cell_type": "code",
      "source": [
        "input_sequences = []\n",
        "token_list = tokenizer.texts_to_sequences([text])[0]\n",
        "\n",
        "for i in range(1, len(token_list)):\n",
        "    n_gram_sequence = token_list[:i+1]\n",
        "    input_sequences.append(n_gram_sequence)\n"
      ],
      "metadata": {
        "id": "XMmFfiqBy-E2"
      },
      "execution_count": 22,
      "outputs": []
    },
    {
      "cell_type": "markdown",
      "source": [
        "Pad sequencing:-"
      ],
      "metadata": {
        "id": "toUMohxKzHAd"
      }
    },
    {
      "cell_type": "code",
      "source": [
        "max_seq_len = max(len(seq) for seq in input_sequences)\n",
        "input_sequences = np.array(pad_sequences(input_sequences, maxlen=max_seq_len, padding='pre'))\n"
      ],
      "metadata": {
        "id": "xau5dDuXzHtY"
      },
      "execution_count": 23,
      "outputs": []
    },
    {
      "cell_type": "markdown",
      "source": [
        "Split into input and labels"
      ],
      "metadata": {
        "id": "nN2E4rVRzToY"
      }
    },
    {
      "cell_type": "code",
      "source": [
        "X = input_sequences[:, :-1]\n",
        "y = to_categorical(input_sequences[:, -1], num_classes=total_words)\n"
      ],
      "metadata": {
        "id": "S-cVYqbpzW-U"
      },
      "execution_count": 24,
      "outputs": []
    },
    {
      "cell_type": "markdown",
      "source": [
        "build the model:-\n"
      ],
      "metadata": {
        "id": "dxEsf08dzf-T"
      }
    },
    {
      "cell_type": "code",
      "source": [
        "def build_model(rnn_type='LSTM'):\n",
        "    model = tf.keras.Sequential()\n",
        "    model.add(tf.keras.layers.Embedding(total_words, 10, input_length=max_seq_len - 1))\n",
        "    if rnn_type == 'RNN':\n",
        "        model.add(tf.keras.layers.SimpleRNN(100))\n",
        "    elif rnn_type == 'GRU':\n",
        "        model.add(tf.keras.layers.GRU(100))\n",
        "    elif rnn_type == 'LSTM':\n",
        "        model.add(tf.keras.layers.LSTM(100))\n",
        "    model.add(tf.keras.layers.Dense(total_words, activation='softmax'))\n",
        "    model.compile(loss='categorical_crossentropy', optimizer='adam', metrics=['accuracy'])\n",
        "    return model\n"
      ],
      "metadata": {
        "id": "7-OD2sPDHw0Y"
      },
      "execution_count": 25,
      "outputs": []
    },
    {
      "cell_type": "markdown",
      "source": [
        " Train and compaire the model :-"
      ],
      "metadata": {
        "id": "9n34v7E5z4PX"
      }
    },
    {
      "cell_type": "code",
      "source": [
        "models = ['RNN', 'GRU', 'LSTM']\n",
        "results = {}\n",
        "\n",
        "for model_type in models:\n",
        "    print(f\"\\nTraining {model_type} model...\")\n",
        "    model = build_model(model_type)\n",
        "    history = model.fit(X, y, epochs=100, verbose=0)\n",
        "    loss, acc = model.evaluate(X, y, verbose=0)\n",
        "    results[model_type] = (loss, acc)"
      ],
      "metadata": {
        "colab": {
          "base_uri": "https://localhost:8080/"
        },
        "id": "v9jrfCHVHuz5",
        "outputId": "17f11443-cc98-4f51-99de-244dd19484e8"
      },
      "execution_count": 26,
      "outputs": [
        {
          "output_type": "stream",
          "name": "stdout",
          "text": [
            "\n",
            "Training RNN model...\n",
            "\n",
            "Training GRU model...\n",
            "\n",
            "Training LSTM model...\n"
          ]
        }
      ]
    },
    {
      "cell_type": "markdown",
      "source": [
        "plot result:-"
      ],
      "metadata": {
        "id": "uJ9J_8ni0Opi"
      }
    },
    {
      "cell_type": "code",
      "source": [
        "import matplotlib.pyplot as plt\n",
        "\n",
        "losses = [results[m][0] for m in models]\n",
        "accuracies = [results[m][1] for m in models]\n",
        "\n",
        "plt.figure(figsize=(10, 4))\n",
        "\n",
        "plt.subplot(1, 2, 1)\n",
        "plt.bar(models, losses, color='salmon')\n",
        "plt.title(\"Loss Comparison\")\n",
        "plt.ylabel(\"Loss\")\n",
        "\n",
        "plt.subplot(1, 2, 2)\n",
        "plt.bar(models, accuracies, color='lightgreen')\n",
        "plt.title(\"Accuracy Comparison\")\n",
        "plt.ylabel(\"Accuracy\")\n",
        "\n",
        "plt.tight_layout()\n",
        "plt.show()\n"
      ],
      "metadata": {
        "colab": {
          "base_uri": "https://localhost:8080/",
          "height": 407
        },
        "id": "zkEh2SDtI8UR",
        "outputId": "61f3f530-11ae-4cb3-8156-cb6647940a34"
      },
      "execution_count": 27,
      "outputs": [
        {
          "output_type": "display_data",
          "data": {
            "text/plain": [
              "<Figure size 1000x400 with 2 Axes>"
            ],
            "image/png": "[encoded data removed]"
          },
          "metadata": {}
        }
      ]
    },
    {
      "cell_type": "markdown",
      "source": [
        "Test prediction:-"
      ],
      "metadata": {
        "id": "yM7GGAZG0Z6k"
      }
    },
    {
      "cell_type": "code",
      "source": [
        "def predict_next_word(model, seed_text, next_words=1):\n",
        "    for _ in range(next_words):\n",
        "        token_list = tokenizer.texts_to_sequences([seed_text])[0]\n",
        "        token_list = pad_sequences([token_list], maxlen=max_seq_len - 1, padding='pre')\n",
        "        predicted = np.argmax(model.predict(token_list, verbose=0), axis=-1)\n",
        "        output_word = \"\"\n",
        "        for word, index in tokenizer.word_index.items():\n",
        "            if index == predicted:\n",
        "                output_word = word\n",
        "                break\n",
        "        seed_text += \" \" + output_word\n",
        "    print(seed_text)\n"
      ],
      "metadata": {
        "id": "VpP-jZBT0gKD"
      },
      "execution_count": 28,
      "outputs": []
    },
    {
      "cell_type": "code",
      "source": [
        "predict_next_word(model, \"i love\", next_words=1)\n"
      ],
      "metadata": {
        "colab": {
          "base_uri": "https://localhost:8080/"
        },
        "id": "hAcawDipJR0h",
        "outputId": "75967043-3355-48c0-abb6-a7bdaeb0f37b"
      },
      "execution_count": 33,
      "outputs": [
        {
          "output_type": "stream",
          "name": "stdout",
          "text": [
            "i love the\n"
          ]
        }
      ]
    },
    {
      "cell_type": "code",
      "source": [],
      "metadata": {
        "id": "0ajXuvRpJUuG"
      },
      "execution_count": null,
      "outputs": []
    }
  ]
}